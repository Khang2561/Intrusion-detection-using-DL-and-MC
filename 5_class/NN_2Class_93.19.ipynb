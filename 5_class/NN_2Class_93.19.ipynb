{
  "nbformat": 4,
  "nbformat_minor": 0,
  "metadata": {
    "colab": {
      "provenance": [],
      "gpuType": "T4"
    },
    "kernelspec": {
      "name": "python3",
      "display_name": "Python 3"
    },
    "language_info": {
      "name": "python"
    },
    "accelerator": "GPU"
  },
  "cells": [
    {
      "cell_type": "code",
      "source": [
        "from google.colab import drive\n",
        "drive.mount('/content/drive')"
      ],
      "metadata": {
        "colab": {
          "base_uri": "https://localhost:8080/"
        },
        "id": "6MiGLFSoiodI",
        "outputId": "6e862a73-f5cf-4546-e5f0-edd8821dd320"
      },
      "execution_count": null,
      "outputs": [
        {
          "output_type": "stream",
          "name": "stdout",
          "text": [
            "Mounted at /content/drive\n"
          ]
        }
      ]
    },
    {
      "cell_type": "code",
      "execution_count": null,
      "metadata": {
        "id": "MSNcUqKaO-EZ"
      },
      "outputs": [],
      "source": [
        "import os\n",
        "import pandas as pd\n",
        "import numpy as np\n",
        "import matplotlib.pyplot as plt\n",
        "import seaborn as sns"
      ]
    },
    {
      "cell_type": "markdown",
      "source": [
        "**Đọc Data Test và Data Train**"
      ],
      "metadata": {
        "id": "Cm6DEpf6RcPw"
      }
    },
    {
      "cell_type": "code",
      "source": [
        "train_df=pd.read_csv(\"/content/drive/MyDrive/Project/intruction_detection_project/kdd_train.csv\")\n",
        "test_df=pd.read_csv(\"/content/drive/MyDrive/Project/intruction_detection_project/kdd_test.csv\")"
      ],
      "metadata": {
        "id": "7ZdA4O8qQPeJ"
      },
      "execution_count": null,
      "outputs": []
    },
    {
      "cell_type": "code",
      "source": [
        "#Phân loại những data có kiểu category\n",
        "#change Dtype\n",
        "features = [\"protocol_type\",\"service\",\"flag\",\"land\",\"wrong_fragment\",\"is_host_login\",\"urgent\",\"logged_in\",\"root_shell\",\"su_attempted\",\"is_guest_login\",\"labels\"]\n",
        "def convert_cat(df,features) :\n",
        "  for feature in features :\n",
        "    df[feature] = df[feature].astype(\"category\")\n",
        "convert_cat(train_df, features)\n",
        "convert_cat(test_df, features)"
      ],
      "metadata": {
        "id": "aW2h6fMXIsWX"
      },
      "execution_count": null,
      "outputs": []
    },
    {
      "cell_type": "code",
      "source": [
        "#xóa những cột không quá ảnh hưởng đến bài trên train_df\n",
        "train_df = train_df.drop(labels ='num_outbound_cmds',axis = 1)\n",
        "train_df = train_df.drop(labels ='is_host_login',axis = 1)"
      ],
      "metadata": {
        "id": "w0Lv61nhIsfO"
      },
      "execution_count": null,
      "outputs": []
    },
    {
      "cell_type": "code",
      "source": [
        "#xóa những cột không quá ảnh hưởng đến bài trên train_df\n",
        "test_df = test_df.drop(labels ='num_outbound_cmds',axis = 1)\n",
        "test_df = test_df.drop(labels ='is_host_login',axis = 1)"
      ],
      "metadata": {
        "id": "vGT-WjIAIslc"
      },
      "execution_count": null,
      "outputs": []
    },
    {
      "cell_type": "code",
      "source": [
        "#xóa vì num_root tương quan numcompromised đến 1\n",
        "train_df = train_df.drop(labels ='num_root',axis = 1)\n",
        "test_df = test_df.drop(labels ='num_root',axis = 1)"
      ],
      "metadata": {
        "id": "WdGy3dbRIsqy"
      },
      "execution_count": null,
      "outputs": []
    },
    {
      "cell_type": "code",
      "source": [
        "#giảm độ lệch chuyển trong dữ liệu\n",
        "norm_cols = [ 'duration', 'src_bytes', 'dst_bytes', 'hot', 'num_compromised', 'num_file_creations', 'count', 'srv_count', 'dst_host_count', 'dst_host_srv_count']\n",
        "\n",
        "for col in norm_cols:\n",
        "    train_df[col] = np.log(train_df[col]+1e-6)\n",
        "    test_df[col] = np.log(test_df[col]+1e-6)"
      ],
      "metadata": {
        "id": "7LuO1KQIJK8b"
      },
      "execution_count": null,
      "outputs": []
    },
    {
      "cell_type": "code",
      "source": [
        "feature_cols = [i for i in train_df if i != 'labels']\n",
        "x = train_df[feature_cols]\n",
        "y = train_df['labels']\n",
        "X_test =test_df[feature_cols]\n",
        "y_test = test_df['labels']\n"
      ],
      "metadata": {
        "id": "ErQnUaS8JLBv"
      },
      "execution_count": null,
      "outputs": []
    },
    {
      "cell_type": "code",
      "source": [
        "train_df.replace(['neptune', 'smurf', 'pod', 'teardrop', 'back', 'land', 'apache2', 'processtable', 'mailbomb', 'httptunnel'] , 'Dos', inplace=True)\n",
        "train_df.replace(['satan', 'ipsweep', 'portsweep', 'nmap', 'mscan', 'snmpguess', 'saint', 'snmpgetattack'] , 'Probe', inplace=True)\n",
        "train_df.replace(['guess_passwd', 'buffer_overflow', 'loadmodule', 'rootkit', 'ps', 'xterm'] , 'U2R', inplace=True)\n",
        "train_df.replace(['warezmaster', 'warezclient', 'sendmail', 'xlock', 'imap', 'ftp_write', 'named', 'phf', 'perl', 'xsnoop', 'multihop', 'spy'] , 'R2L', inplace=True)\n",
        "\n",
        "test_df.replace(['neptune', 'smurf', 'pod', 'teardrop', 'back', 'land', 'apache2', 'processtable', 'mailbomb', 'httptunnel'] , 'Dos', inplace=True)\n",
        "test_df.replace(['satan', 'ipsweep', 'portsweep', 'nmap', 'mscan', 'snmpguess', 'saint', 'snmpgetattack'] , 'Probe', inplace=True)\n",
        "test_df.replace(['guess_passwd', 'buffer_overflow', 'loadmodule', 'rootkit', 'ps', 'xterm'] , 'U2R', inplace=True)\n",
        "test_df.replace(['warezmaster', 'warezclient', 'sendmail', 'xlock', 'imap', 'ftp_write', 'named', 'phf', 'perl', 'xsnoop', 'multihop', 'spy'] , 'R2L', inplace=True)"
      ],
      "metadata": {
        "id": "ky5Y330pKnOO"
      },
      "execution_count": null,
      "outputs": []
    },
    {
      "cell_type": "code",
      "source": [
        "train_df['labels'].unique()"
      ],
      "metadata": {
        "colab": {
          "base_uri": "https://localhost:8080/"
        },
        "id": "-BPycL40B5NH",
        "outputId": "2bf054ef-22db-41fe-ee39-b75558136839"
      },
      "execution_count": null,
      "outputs": [
        {
          "output_type": "execute_result",
          "data": {
            "text/plain": [
              "['normal', 'Dos', 'R2L', 'Probe', 'U2R']\n",
              "Categories (5, object): ['U2R', 'Dos', 'normal', 'Probe', 'R2L']"
            ]
          },
          "metadata": {},
          "execution_count": 11
        }
      ]
    },
    {
      "cell_type": "code",
      "source": [
        "test_df['labels'].unique()"
      ],
      "metadata": {
        "colab": {
          "base_uri": "https://localhost:8080/"
        },
        "id": "w2I6kaCwCFe1",
        "outputId": "bbb96f97-7b52-4875-b486-c9aaea5c25cf"
      },
      "execution_count": null,
      "outputs": [
        {
          "output_type": "execute_result",
          "data": {
            "text/plain": [
              "['normal', 'Probe', 'Dos', 'U2R', 'R2L']\n",
              "Categories (5, object): ['U2R', 'Dos', 'normal', 'Probe', 'R2L']"
            ]
          },
          "metadata": {},
          "execution_count": 12
        }
      ]
    },
    {
      "cell_type": "code",
      "source": [
        "#preprocess pipeline\n",
        "from sklearn.preprocessing import OneHotEncoder, StandardScaler\n",
        "from sklearn.impute import SimpleImputer\n",
        "from sklearn.compose import ColumnTransformer\n",
        "from sklearn.pipeline import Pipeline\n",
        "from sklearn.compose import ColumnTransformer"
      ],
      "metadata": {
        "id": "v2i0YH8BJLFy"
      },
      "execution_count": null,
      "outputs": []
    },
    {
      "cell_type": "code",
      "source": [
        "num_transformer = Pipeline(steps =[\n",
        "    ('imputer', SimpleImputer(strategy = 'median')),\n",
        "    ('scaler', StandardScaler())\n",
        "])\n",
        "\n",
        "cat_transformer = Pipeline(steps =[\n",
        "    ('imputer', SimpleImputer(strategy='most_frequent')),\n",
        "    ('encoder', OneHotEncoder(handle_unknown='ignore'))\n",
        "])"
      ],
      "metadata": {
        "id": "qNx8j-RDJmgv"
      },
      "execution_count": null,
      "outputs": []
    },
    {
      "cell_type": "code",
      "source": [
        "num_features = [i for i in train_df if i != 'labels' and train_df[i].dtype != 'category']\n",
        "cat_features = [i for i in train_df if i != 'labels' and train_df[i].dtype == 'category']"
      ],
      "metadata": {
        "id": "Z1rsFZDOJmoZ"
      },
      "execution_count": null,
      "outputs": []
    },
    {
      "cell_type": "code",
      "source": [
        "preprocessor = ColumnTransformer(transformers=[\n",
        "    ('num', num_transformer, num_features),\n",
        "    ('cat', cat_transformer, cat_features)\n",
        "])"
      ],
      "metadata": {
        "id": "8s3SHxdbJmz9"
      },
      "execution_count": null,
      "outputs": []
    },
    {
      "cell_type": "code",
      "source": [
        "preprocessor.fit(x)\n",
        "preprocessor.fit(X_test)"
      ],
      "metadata": {
        "colab": {
          "base_uri": "https://localhost:8080/",
          "height": 153
        },
        "id": "x_1f5Yb4JLJa",
        "outputId": "979f1e6d-0275-403e-a58f-acfa14b9fd39"
      },
      "execution_count": null,
      "outputs": [
        {
          "output_type": "execute_result",
          "data": {
            "text/plain": [
              "ColumnTransformer(transformers=[('num',\n",
              "                                 Pipeline(steps=[('imputer',\n",
              "                                                  SimpleImputer(strategy='median')),\n",
              "                                                 ('scaler', StandardScaler())]),\n",
              "                                 ['duration', 'src_bytes', 'dst_bytes', 'hot',\n",
              "                                  'num_failed_logins', 'num_compromised',\n",
              "                                  'num_file_creations', 'num_shells',\n",
              "                                  'num_access_files', 'count', 'srv_count',\n",
              "                                  'serror_rate', 'srv_serror_rate',\n",
              "                                  'rerror_rate', 'srv_rerror_rate',\n",
              "                                  'sa...\n",
              "                                  'dst_host_serror_rate',\n",
              "                                  'dst_host_srv_serror_rate',\n",
              "                                  'dst_host_rerror_rate',\n",
              "                                  'dst_host_srv_rerror_rate']),\n",
              "                                ('cat',\n",
              "                                 Pipeline(steps=[('imputer',\n",
              "                                                  SimpleImputer(strategy='most_frequent')),\n",
              "                                                 ('encoder',\n",
              "                                                  OneHotEncoder(handle_unknown='ignore'))]),\n",
              "                                 ['protocol_type', 'service', 'flag', 'land',\n",
              "                                  'wrong_fragment', 'urgent', 'logged_in',\n",
              "                                  'root_shell', 'su_attempted',\n",
              "                                  'is_guest_login'])])"
            ],
            "text/html": [
              "<style>#sk-container-id-1 {color: black;background-color: white;}#sk-container-id-1 pre{padding: 0;}#sk-container-id-1 div.sk-toggleable {background-color: white;}#sk-container-id-1 label.sk-toggleable__label {cursor: pointer;display: block;width: 100%;margin-bottom: 0;padding: 0.3em;box-sizing: border-box;text-align: center;}#sk-container-id-1 label.sk-toggleable__label-arrow:before {content: \"▸\";float: left;margin-right: 0.25em;color: #696969;}#sk-container-id-1 label.sk-toggleable__label-arrow:hover:before {color: black;}#sk-container-id-1 div.sk-estimator:hover label.sk-toggleable__label-arrow:before {color: black;}#sk-container-id-1 div.sk-toggleable__content {max-height: 0;max-width: 0;overflow: hidden;text-align: left;background-color: #f0f8ff;}#sk-container-id-1 div.sk-toggleable__content pre {margin: 0.2em;color: black;border-radius: 0.25em;background-color: #f0f8ff;}#sk-container-id-1 input.sk-toggleable__control:checked~div.sk-toggleable__content {max-height: 200px;max-width: 100%;overflow: auto;}#sk-container-id-1 input.sk-toggleable__control:checked~label.sk-toggleable__label-arrow:before {content: \"▾\";}#sk-container-id-1 div.sk-estimator input.sk-toggleable__control:checked~label.sk-toggleable__label {background-color: #d4ebff;}#sk-container-id-1 div.sk-label input.sk-toggleable__control:checked~label.sk-toggleable__label {background-color: #d4ebff;}#sk-container-id-1 input.sk-hidden--visually {border: 0;clip: rect(1px 1px 1px 1px);clip: rect(1px, 1px, 1px, 1px);height: 1px;margin: -1px;overflow: hidden;padding: 0;position: absolute;width: 1px;}#sk-container-id-1 div.sk-estimator {font-family: monospace;background-color: #f0f8ff;border: 1px dotted black;border-radius: 0.25em;box-sizing: border-box;margin-bottom: 0.5em;}#sk-container-id-1 div.sk-estimator:hover {background-color: #d4ebff;}#sk-container-id-1 div.sk-parallel-item::after {content: \"\";width: 100%;border-bottom: 1px solid gray;flex-grow: 1;}#sk-container-id-1 div.sk-label:hover label.sk-toggleable__label {background-color: #d4ebff;}#sk-container-id-1 div.sk-serial::before {content: \"\";position: absolute;border-left: 1px solid gray;box-sizing: border-box;top: 0;bottom: 0;left: 50%;z-index: 0;}#sk-container-id-1 div.sk-serial {display: flex;flex-direction: column;align-items: center;background-color: white;padding-right: 0.2em;padding-left: 0.2em;position: relative;}#sk-container-id-1 div.sk-item {position: relative;z-index: 1;}#sk-container-id-1 div.sk-parallel {display: flex;align-items: stretch;justify-content: center;background-color: white;position: relative;}#sk-container-id-1 div.sk-item::before, #sk-container-id-1 div.sk-parallel-item::before {content: \"\";position: absolute;border-left: 1px solid gray;box-sizing: border-box;top: 0;bottom: 0;left: 50%;z-index: -1;}#sk-container-id-1 div.sk-parallel-item {display: flex;flex-direction: column;z-index: 1;position: relative;background-color: white;}#sk-container-id-1 div.sk-parallel-item:first-child::after {align-self: flex-end;width: 50%;}#sk-container-id-1 div.sk-parallel-item:last-child::after {align-self: flex-start;width: 50%;}#sk-container-id-1 div.sk-parallel-item:only-child::after {width: 0;}#sk-container-id-1 div.sk-dashed-wrapped {border: 1px dashed gray;margin: 0 0.4em 0.5em 0.4em;box-sizing: border-box;padding-bottom: 0.4em;background-color: white;}#sk-container-id-1 div.sk-label label {font-family: monospace;font-weight: bold;display: inline-block;line-height: 1.2em;}#sk-container-id-1 div.sk-label-container {text-align: center;}#sk-container-id-1 div.sk-container {/* jupyter's `normalize.less` sets `[hidden] { display: none; }` but bootstrap.min.css set `[hidden] { display: none !important; }` so we also need the `!important` here to be able to override the default hidden behavior on the sphinx rendered scikit-learn.org. See: https://github.com/scikit-learn/scikit-learn/issues/21755 */display: inline-block !important;position: relative;}#sk-container-id-1 div.sk-text-repr-fallback {display: none;}</style><div id=\"sk-container-id-1\" class=\"sk-top-container\"><div class=\"sk-text-repr-fallback\"><pre>ColumnTransformer(transformers=[(&#x27;num&#x27;,\n",
              "                                 Pipeline(steps=[(&#x27;imputer&#x27;,\n",
              "                                                  SimpleImputer(strategy=&#x27;median&#x27;)),\n",
              "                                                 (&#x27;scaler&#x27;, StandardScaler())]),\n",
              "                                 [&#x27;duration&#x27;, &#x27;src_bytes&#x27;, &#x27;dst_bytes&#x27;, &#x27;hot&#x27;,\n",
              "                                  &#x27;num_failed_logins&#x27;, &#x27;num_compromised&#x27;,\n",
              "                                  &#x27;num_file_creations&#x27;, &#x27;num_shells&#x27;,\n",
              "                                  &#x27;num_access_files&#x27;, &#x27;count&#x27;, &#x27;srv_count&#x27;,\n",
              "                                  &#x27;serror_rate&#x27;, &#x27;srv_serror_rate&#x27;,\n",
              "                                  &#x27;rerror_rate&#x27;, &#x27;srv_rerror_rate&#x27;,\n",
              "                                  &#x27;sa...\n",
              "                                  &#x27;dst_host_serror_rate&#x27;,\n",
              "                                  &#x27;dst_host_srv_serror_rate&#x27;,\n",
              "                                  &#x27;dst_host_rerror_rate&#x27;,\n",
              "                                  &#x27;dst_host_srv_rerror_rate&#x27;]),\n",
              "                                (&#x27;cat&#x27;,\n",
              "                                 Pipeline(steps=[(&#x27;imputer&#x27;,\n",
              "                                                  SimpleImputer(strategy=&#x27;most_frequent&#x27;)),\n",
              "                                                 (&#x27;encoder&#x27;,\n",
              "                                                  OneHotEncoder(handle_unknown=&#x27;ignore&#x27;))]),\n",
              "                                 [&#x27;protocol_type&#x27;, &#x27;service&#x27;, &#x27;flag&#x27;, &#x27;land&#x27;,\n",
              "                                  &#x27;wrong_fragment&#x27;, &#x27;urgent&#x27;, &#x27;logged_in&#x27;,\n",
              "                                  &#x27;root_shell&#x27;, &#x27;su_attempted&#x27;,\n",
              "                                  &#x27;is_guest_login&#x27;])])</pre><b>In a Jupyter environment, please rerun this cell to show the HTML representation or trust the notebook. <br />On GitHub, the HTML representation is unable to render, please try loading this page with nbviewer.org.</b></div><div class=\"sk-container\" hidden><div class=\"sk-item sk-dashed-wrapped\"><div class=\"sk-label-container\"><div class=\"sk-label sk-toggleable\"><input class=\"sk-toggleable__control sk-hidden--visually\" id=\"sk-estimator-id-1\" type=\"checkbox\" ><label for=\"sk-estimator-id-1\" class=\"sk-toggleable__label sk-toggleable__label-arrow\">ColumnTransformer</label><div class=\"sk-toggleable__content\"><pre>ColumnTransformer(transformers=[(&#x27;num&#x27;,\n",
              "                                 Pipeline(steps=[(&#x27;imputer&#x27;,\n",
              "                                                  SimpleImputer(strategy=&#x27;median&#x27;)),\n",
              "                                                 (&#x27;scaler&#x27;, StandardScaler())]),\n",
              "                                 [&#x27;duration&#x27;, &#x27;src_bytes&#x27;, &#x27;dst_bytes&#x27;, &#x27;hot&#x27;,\n",
              "                                  &#x27;num_failed_logins&#x27;, &#x27;num_compromised&#x27;,\n",
              "                                  &#x27;num_file_creations&#x27;, &#x27;num_shells&#x27;,\n",
              "                                  &#x27;num_access_files&#x27;, &#x27;count&#x27;, &#x27;srv_count&#x27;,\n",
              "                                  &#x27;serror_rate&#x27;, &#x27;srv_serror_rate&#x27;,\n",
              "                                  &#x27;rerror_rate&#x27;, &#x27;srv_rerror_rate&#x27;,\n",
              "                                  &#x27;sa...\n",
              "                                  &#x27;dst_host_serror_rate&#x27;,\n",
              "                                  &#x27;dst_host_srv_serror_rate&#x27;,\n",
              "                                  &#x27;dst_host_rerror_rate&#x27;,\n",
              "                                  &#x27;dst_host_srv_rerror_rate&#x27;]),\n",
              "                                (&#x27;cat&#x27;,\n",
              "                                 Pipeline(steps=[(&#x27;imputer&#x27;,\n",
              "                                                  SimpleImputer(strategy=&#x27;most_frequent&#x27;)),\n",
              "                                                 (&#x27;encoder&#x27;,\n",
              "                                                  OneHotEncoder(handle_unknown=&#x27;ignore&#x27;))]),\n",
              "                                 [&#x27;protocol_type&#x27;, &#x27;service&#x27;, &#x27;flag&#x27;, &#x27;land&#x27;,\n",
              "                                  &#x27;wrong_fragment&#x27;, &#x27;urgent&#x27;, &#x27;logged_in&#x27;,\n",
              "                                  &#x27;root_shell&#x27;, &#x27;su_attempted&#x27;,\n",
              "                                  &#x27;is_guest_login&#x27;])])</pre></div></div></div><div class=\"sk-parallel\"><div class=\"sk-parallel-item\"><div class=\"sk-item\"><div class=\"sk-label-container\"><div class=\"sk-label sk-toggleable\"><input class=\"sk-toggleable__control sk-hidden--visually\" id=\"sk-estimator-id-2\" type=\"checkbox\" ><label for=\"sk-estimator-id-2\" class=\"sk-toggleable__label sk-toggleable__label-arrow\">num</label><div class=\"sk-toggleable__content\"><pre>[&#x27;duration&#x27;, &#x27;src_bytes&#x27;, &#x27;dst_bytes&#x27;, &#x27;hot&#x27;, &#x27;num_failed_logins&#x27;, &#x27;num_compromised&#x27;, &#x27;num_file_creations&#x27;, &#x27;num_shells&#x27;, &#x27;num_access_files&#x27;, &#x27;count&#x27;, &#x27;srv_count&#x27;, &#x27;serror_rate&#x27;, &#x27;srv_serror_rate&#x27;, &#x27;rerror_rate&#x27;, &#x27;srv_rerror_rate&#x27;, &#x27;same_srv_rate&#x27;, &#x27;diff_srv_rate&#x27;, &#x27;srv_diff_host_rate&#x27;, &#x27;dst_host_count&#x27;, &#x27;dst_host_srv_count&#x27;, &#x27;dst_host_same_srv_rate&#x27;, &#x27;dst_host_diff_srv_rate&#x27;, &#x27;dst_host_same_src_port_rate&#x27;, &#x27;dst_host_srv_diff_host_rate&#x27;, &#x27;dst_host_serror_rate&#x27;, &#x27;dst_host_srv_serror_rate&#x27;, &#x27;dst_host_rerror_rate&#x27;, &#x27;dst_host_srv_rerror_rate&#x27;]</pre></div></div></div><div class=\"sk-serial\"><div class=\"sk-item\"><div class=\"sk-serial\"><div class=\"sk-item\"><div class=\"sk-estimator sk-toggleable\"><input class=\"sk-toggleable__control sk-hidden--visually\" id=\"sk-estimator-id-3\" type=\"checkbox\" ><label for=\"sk-estimator-id-3\" class=\"sk-toggleable__label sk-toggleable__label-arrow\">SimpleImputer</label><div class=\"sk-toggleable__content\"><pre>SimpleImputer(strategy=&#x27;median&#x27;)</pre></div></div></div><div class=\"sk-item\"><div class=\"sk-estimator sk-toggleable\"><input class=\"sk-toggleable__control sk-hidden--visually\" id=\"sk-estimator-id-4\" type=\"checkbox\" ><label for=\"sk-estimator-id-4\" class=\"sk-toggleable__label sk-toggleable__label-arrow\">StandardScaler</label><div class=\"sk-toggleable__content\"><pre>StandardScaler()</pre></div></div></div></div></div></div></div></div><div class=\"sk-parallel-item\"><div class=\"sk-item\"><div class=\"sk-label-container\"><div class=\"sk-label sk-toggleable\"><input class=\"sk-toggleable__control sk-hidden--visually\" id=\"sk-estimator-id-5\" type=\"checkbox\" ><label for=\"sk-estimator-id-5\" class=\"sk-toggleable__label sk-toggleable__label-arrow\">cat</label><div class=\"sk-toggleable__content\"><pre>[&#x27;protocol_type&#x27;, &#x27;service&#x27;, &#x27;flag&#x27;, &#x27;land&#x27;, &#x27;wrong_fragment&#x27;, &#x27;urgent&#x27;, &#x27;logged_in&#x27;, &#x27;root_shell&#x27;, &#x27;su_attempted&#x27;, &#x27;is_guest_login&#x27;]</pre></div></div></div><div class=\"sk-serial\"><div class=\"sk-item\"><div class=\"sk-serial\"><div class=\"sk-item\"><div class=\"sk-estimator sk-toggleable\"><input class=\"sk-toggleable__control sk-hidden--visually\" id=\"sk-estimator-id-6\" type=\"checkbox\" ><label for=\"sk-estimator-id-6\" class=\"sk-toggleable__label sk-toggleable__label-arrow\">SimpleImputer</label><div class=\"sk-toggleable__content\"><pre>SimpleImputer(strategy=&#x27;most_frequent&#x27;)</pre></div></div></div><div class=\"sk-item\"><div class=\"sk-estimator sk-toggleable\"><input class=\"sk-toggleable__control sk-hidden--visually\" id=\"sk-estimator-id-7\" type=\"checkbox\" ><label for=\"sk-estimator-id-7\" class=\"sk-toggleable__label sk-toggleable__label-arrow\">OneHotEncoder</label><div class=\"sk-toggleable__content\"><pre>OneHotEncoder(handle_unknown=&#x27;ignore&#x27;)</pre></div></div></div></div></div></div></div></div></div></div></div></div>"
            ]
          },
          "metadata": {},
          "execution_count": 17
        }
      ]
    },
    {
      "cell_type": "code",
      "source": [
        "X = preprocessor.transform(x)#X -> X_train, X_val\n",
        "X_test =preprocessor.transform(X_test)"
      ],
      "metadata": {
        "id": "wdVjBxltJxrA"
      },
      "execution_count": null,
      "outputs": []
    },
    {
      "cell_type": "code",
      "source": [
        "X_train = X\n",
        "y_train = y"
      ],
      "metadata": {
        "id": "ic6-SYScJxxE"
      },
      "execution_count": null,
      "outputs": []
    },
    {
      "cell_type": "code",
      "execution_count": null,
      "metadata": {
        "id": "awDQx1q9OGpB"
      },
      "outputs": [],
      "source": [
        "from sklearn.model_selection import train_test_split"
      ]
    },
    {
      "cell_type": "code",
      "execution_count": null,
      "metadata": {
        "id": "CakgaK8xOKRH"
      },
      "outputs": [],
      "source": [
        "X_train, X_val, y_train,y_val = train_test_split(X,y, test_size = 0.3)"
      ]
    },
    {
      "cell_type": "markdown",
      "source": [
        "**Features Choosing**"
      ],
      "metadata": {
        "id": "MtATGaqY58kB"
      }
    },
    {
      "cell_type": "code",
      "source": [
        "lable_map = {'normal': 0, 'Dos': 1, 'Probe': 2, 'R2L': 3, 'U2R': 4}"
      ],
      "metadata": {
        "id": "17Ms5MnX5RU-"
      },
      "execution_count": null,
      "outputs": []
    },
    {
      "cell_type": "code",
      "source": [
        "y_train =y_train.map(lable_map)\n",
        "y_test = y_test.map(lable_map)\n",
        "y_val = y_val.map(lable_map)"
      ],
      "metadata": {
        "id": "jhRJbs-05pcc"
      },
      "execution_count": null,
      "outputs": []
    },
    {
      "cell_type": "code",
      "source": [
        "from tensorflow.keras.utils import to_categorical\n",
        "import numpy as np"
      ],
      "metadata": {
        "id": "BkF6Dnd26OMS"
      },
      "execution_count": null,
      "outputs": []
    },
    {
      "cell_type": "code",
      "source": [
        "y_train_encoder = to_categorical(y_train, num_classes=5)\n",
        "y_train_encoder"
      ],
      "metadata": {
        "id": "XamkCjp76OfL",
        "colab": {
          "base_uri": "https://localhost:8080/"
        },
        "outputId": "f27eb6fb-eda1-4c7b-8622-bad6d2788231"
      },
      "execution_count": null,
      "outputs": [
        {
          "output_type": "execute_result",
          "data": {
            "text/plain": [
              "array([[1., 0., 0., 0., 0.],\n",
              "       [1., 0., 0., 0., 0.],\n",
              "       [1., 0., 0., 0., 0.],\n",
              "       ...,\n",
              "       [0., 1., 0., 0., 0.],\n",
              "       [0., 1., 0., 0., 0.],\n",
              "       [1., 0., 0., 0., 0.]], dtype=float32)"
            ]
          },
          "metadata": {},
          "execution_count": 25
        }
      ]
    },
    {
      "cell_type": "code",
      "source": [
        "y_test_encoder = to_categorical(y_test, num_classes=5)\n",
        "y_test_encoder"
      ],
      "metadata": {
        "id": "OSAB_Z0G_Jpa",
        "colab": {
          "base_uri": "https://localhost:8080/"
        },
        "outputId": "0281fde3-a325-45e8-f28f-8a8cf20c2403"
      },
      "execution_count": null,
      "outputs": [
        {
          "output_type": "execute_result",
          "data": {
            "text/plain": [
              "array([[1., 0., 0., 0., 0.],\n",
              "       [1., 0., 0., 0., 0.],\n",
              "       [1., 0., 0., 0., 0.],\n",
              "       ...,\n",
              "       [0., 1., 0., 0., 0.],\n",
              "       [0., 0., 1., 0., 0.],\n",
              "       [1., 0., 0., 0., 0.]], dtype=float32)"
            ]
          },
          "metadata": {},
          "execution_count": 26
        }
      ]
    },
    {
      "cell_type": "code",
      "source": [
        "y_val_encoder = y_test_encoder = to_categorical(y_val, num_classes=5)\n",
        "y_test_encoder"
      ],
      "metadata": {
        "colab": {
          "base_uri": "https://localhost:8080/"
        },
        "id": "2CGL-Rw6RnvD",
        "outputId": "6e61913b-48e3-48e9-ecc2-a68101e2b07f"
      },
      "execution_count": null,
      "outputs": [
        {
          "output_type": "execute_result",
          "data": {
            "text/plain": [
              "array([[0., 1., 0., 0., 0.],\n",
              "       [0., 1., 0., 0., 0.],\n",
              "       [1., 0., 0., 0., 0.],\n",
              "       ...,\n",
              "       [1., 0., 0., 0., 0.],\n",
              "       [0., 1., 0., 0., 0.],\n",
              "       [0., 1., 0., 0., 0.]], dtype=float32)"
            ]
          },
          "metadata": {},
          "execution_count": 27
        }
      ]
    },
    {
      "cell_type": "code",
      "source": [
        "#chuỗi cái layer\n",
        "from keras.models import Sequential\n",
        "model = Sequential()"
      ],
      "metadata": {
        "id": "r5GtP0SCNDnz"
      },
      "execution_count": null,
      "outputs": []
    },
    {
      "cell_type": "code",
      "source": [
        "import numpy as np\n",
        "import pandas as pd\n",
        "import warnings\n",
        "import matplotlib.pyplot as plt\n",
        "import seaborn as sns\n",
        "import tensorflow as tf\n",
        "from tensorflow.keras import regularizers\n",
        "\n",
        "import xgboost as xgb\n",
        "from sklearn.decomposition import PCA\n",
        "from sklearn import tree\n",
        "from sklearn.naive_bayes import GaussianNB\n",
        "from sklearn.linear_model import LogisticRegression\n",
        "from sklearn.neighbors import KNeighborsClassifier\n",
        "from sklearn.tree import DecisionTreeClassifier\n",
        "from sklearn.preprocessing import RobustScaler\n",
        "from sklearn.ensemble import RandomForestClassifier, RandomForestRegressor\n",
        "from sklearn.model_selection import train_test_split\n",
        "from sklearn import svm\n",
        "from sklearn import metrics\n",
        "pd.set_option('display.max_columns',None)\n",
        "warnings.filterwarnings('ignore')\n",
        "%matplotlib inline"
      ],
      "metadata": {
        "id": "HH7EAnLHNRPR"
      },
      "execution_count": null,
      "outputs": []
    },
    {
      "cell_type": "code",
      "source": [
        "model = tf.keras.Sequential([\n",
        "    tf.keras.layers.Dense(units=125, activation='relu', input_shape=(125, ),\n",
        "                          kernel_regularizer=regularizers.L1L2(l1=1e-5, l2=1e-4),\n",
        "                          bias_regularizer=regularizers.L2(1e-4),\n",
        "                          activity_regularizer=regularizers.L2(1e-5)),\n",
        "    tf.keras.layers.Dropout(0.01),\n",
        "    tf.keras.layers.Dense(units=128, activation='relu',\n",
        "                          kernel_regularizer=regularizers.L1L2(l1=1e-5, l2=1e-4),\n",
        "                          bias_regularizer=regularizers.L2(1e-4),\n",
        "                          activity_regularizer=regularizers.L2(1e-5)),\n",
        "    tf.keras.layers.Dropout(0.01),\n",
        "\n",
        "    tf.keras.layers.Dense(units=64, activation='relu',\n",
        "                          kernel_regularizer=regularizers.L1L2(l1=1e-5, l2=1e-4),\n",
        "                          bias_regularizer=regularizers.L2(1e-4),\n",
        "                          activity_regularizer=regularizers.L2(1e-5)),\n",
        "    tf.keras.layers.Dropout(0.01),\n",
        "\n",
        "\n",
        "    tf.keras.layers.Dense(units=32, activation='relu',\n",
        "                          kernel_regularizer=regularizers.L1L2(l1=1e-5, l2=1e-4),\n",
        "                          bias_regularizer=regularizers.L2(1e-4),\n",
        "                          activity_regularizer=regularizers.L2(1e-5)),\n",
        "    tf.keras.layers.Dropout(0.01),\n",
        "\n",
        "    tf.keras.layers.Dense(units=16, activation='relu',\n",
        "                          kernel_regularizer=regularizers.L1L2(l1=1e-5, l2=1e-4),\n",
        "                          bias_regularizer=regularizers.L2(1e-4),\n",
        "                          activity_regularizer=regularizers.L2(1e-5)),\n",
        "    tf.keras.layers.Dropout(0.01),\n",
        "\n",
        "    tf.keras.layers.Dense(units=8, activation='relu',\n",
        "                          kernel_regularizer=regularizers.L1L2(l1=1e-5, l2=1e-4),\n",
        "                          bias_regularizer=regularizers.L2(1e-4),\n",
        "                          activity_regularizer=regularizers.L2(1e-5)),\n",
        "    tf.keras.layers.Dropout(0.01),\n",
        "\n",
        "    tf.keras.layers.Dense(units=5, activation='sigmoid'),\n",
        "])"
      ],
      "metadata": {
        "id": "YJSt-dXzNULp"
      },
      "execution_count": null,
      "outputs": []
    },
    {
      "cell_type": "code",
      "source": [
        "model.compile(optimizer='adam', loss=tf.keras.losses.BinaryCrossentropy(from_logits=True), metrics=['accuracy'])"
      ],
      "metadata": {
        "id": "45WtcJ5KNSik"
      },
      "execution_count": null,
      "outputs": []
    },
    {
      "cell_type": "code",
      "source": [
        "model.summary()"
      ],
      "metadata": {
        "colab": {
          "base_uri": "https://localhost:8080/"
        },
        "id": "33y5Y8MJNc3d",
        "outputId": "ea24e40b-5dfd-43ec-ee1f-b23f8db68c68"
      },
      "execution_count": null,
      "outputs": [
        {
          "output_type": "stream",
          "name": "stdout",
          "text": [
            "Model: \"sequential_1\"\n",
            "_________________________________________________________________\n",
            " Layer (type)                Output Shape              Param #   \n",
            "=================================================================\n",
            " dense (Dense)               (None, 125)               15750     \n",
            "                                                                 \n",
            " dropout (Dropout)           (None, 125)               0         \n",
            "                                                                 \n",
            " dense_1 (Dense)             (None, 128)               16128     \n",
            "                                                                 \n",
            " dropout_1 (Dropout)         (None, 128)               0         \n",
            "                                                                 \n",
            " dense_2 (Dense)             (None, 64)                8256      \n",
            "                                                                 \n",
            " dropout_2 (Dropout)         (None, 64)                0         \n",
            "                                                                 \n",
            " dense_3 (Dense)             (None, 32)                2080      \n",
            "                                                                 \n",
            " dropout_3 (Dropout)         (None, 32)                0         \n",
            "                                                                 \n",
            " dense_4 (Dense)             (None, 16)                528       \n",
            "                                                                 \n",
            " dropout_4 (Dropout)         (None, 16)                0         \n",
            "                                                                 \n",
            " dense_5 (Dense)             (None, 8)                 136       \n",
            "                                                                 \n",
            " dropout_5 (Dropout)         (None, 8)                 0         \n",
            "                                                                 \n",
            " dense_6 (Dense)             (None, 5)                 45        \n",
            "                                                                 \n",
            "=================================================================\n",
            "Total params: 42923 (167.67 KB)\n",
            "Trainable params: 42923 (167.67 KB)\n",
            "Non-trainable params: 0 (0.00 Byte)\n",
            "_________________________________________________________________\n"
          ]
        }
      ]
    },
    {
      "cell_type": "code",
      "source": [
        "from keras.callbacks import EarlyStopping\n",
        "\n",
        "# Định nghĩa callback EarlyStopping\n",
        "early_stopping = EarlyStopping(monitor='val_accuracy', patience=500, restore_best_weights=True)\n",
        "# Huấn luyện mô hình\n",
        "history = model.fit(X_train, y_train_encoder, validation_data=(X_val, y_val_encoder), epochs=300, verbose=30000,callbacks=[early_stopping])"
      ],
      "metadata": {
        "colab": {
          "base_uri": "https://localhost:8080/"
        },
        "id": "DlGOpsH8Nd2x",
        "outputId": "23b685c5-9f63-4291-8279-bb2997ed79cc"
      },
      "execution_count": null,
      "outputs": [
        {
          "output_type": "stream",
          "name": "stdout",
          "text": [
            "Epoch 1/300\n",
            "Epoch 2/300\n",
            "Epoch 3/300\n",
            "Epoch 4/300\n",
            "Epoch 5/300\n",
            "Epoch 6/300\n",
            "Epoch 7/300\n",
            "Epoch 8/300\n",
            "Epoch 9/300\n",
            "Epoch 10/300\n",
            "Epoch 11/300\n",
            "Epoch 12/300\n",
            "Epoch 13/300\n",
            "Epoch 14/300\n",
            "Epoch 15/300\n",
            "Epoch 16/300\n",
            "Epoch 17/300\n",
            "Epoch 18/300\n",
            "Epoch 19/300\n",
            "Epoch 20/300\n",
            "Epoch 21/300\n",
            "Epoch 22/300\n",
            "Epoch 23/300\n",
            "Epoch 24/300\n",
            "Epoch 25/300\n",
            "Epoch 26/300\n",
            "Epoch 27/300\n",
            "Epoch 28/300\n",
            "Epoch 29/300\n",
            "Epoch 30/300\n",
            "Epoch 31/300\n",
            "Epoch 32/300\n",
            "Epoch 33/300\n",
            "Epoch 34/300\n",
            "Epoch 35/300\n",
            "Epoch 36/300\n",
            "Epoch 37/300\n",
            "Epoch 38/300\n",
            "Epoch 39/300\n",
            "Epoch 40/300\n",
            "Epoch 41/300\n",
            "Epoch 42/300\n",
            "Epoch 43/300\n",
            "Epoch 44/300\n",
            "Epoch 45/300\n",
            "Epoch 46/300\n",
            "Epoch 47/300\n",
            "Epoch 48/300\n",
            "Epoch 49/300\n",
            "Epoch 50/300\n",
            "Epoch 51/300\n",
            "Epoch 52/300\n",
            "Epoch 53/300\n",
            "Epoch 54/300\n",
            "Epoch 55/300\n",
            "Epoch 56/300\n",
            "Epoch 57/300\n",
            "Epoch 58/300\n",
            "Epoch 59/300\n",
            "Epoch 60/300\n",
            "Epoch 61/300\n",
            "Epoch 62/300\n",
            "Epoch 63/300\n",
            "Epoch 64/300\n",
            "Epoch 65/300\n",
            "Epoch 66/300\n",
            "Epoch 67/300\n",
            "Epoch 68/300\n",
            "Epoch 69/300\n",
            "Epoch 70/300\n",
            "Epoch 71/300\n",
            "Epoch 72/300\n",
            "Epoch 73/300\n",
            "Epoch 74/300\n",
            "Epoch 75/300\n",
            "Epoch 76/300\n",
            "Epoch 77/300\n",
            "Epoch 78/300\n",
            "Epoch 79/300\n",
            "Epoch 80/300\n",
            "Epoch 81/300\n",
            "Epoch 82/300\n",
            "Epoch 83/300\n",
            "Epoch 84/300\n",
            "Epoch 85/300\n",
            "Epoch 86/300\n",
            "Epoch 87/300\n",
            "Epoch 88/300\n",
            "Epoch 89/300\n",
            "Epoch 90/300\n",
            "Epoch 91/300\n",
            "Epoch 92/300\n",
            "Epoch 93/300\n",
            "Epoch 94/300\n",
            "Epoch 95/300\n",
            "Epoch 96/300\n",
            "Epoch 97/300\n",
            "Epoch 98/300\n",
            "Epoch 99/300\n",
            "Epoch 100/300\n",
            "Epoch 101/300\n",
            "Epoch 102/300\n",
            "Epoch 103/300\n",
            "Epoch 104/300\n",
            "Epoch 105/300\n",
            "Epoch 106/300\n",
            "Epoch 107/300\n",
            "Epoch 108/300\n",
            "Epoch 109/300\n",
            "Epoch 110/300\n",
            "Epoch 111/300\n",
            "Epoch 112/300\n",
            "Epoch 113/300\n",
            "Epoch 114/300\n",
            "Epoch 115/300\n",
            "Epoch 116/300\n",
            "Epoch 117/300\n",
            "Epoch 118/300\n",
            "Epoch 119/300\n",
            "Epoch 120/300\n",
            "Epoch 121/300\n",
            "Epoch 122/300\n",
            "Epoch 123/300\n",
            "Epoch 124/300\n",
            "Epoch 125/300\n",
            "Epoch 126/300\n",
            "Epoch 127/300\n",
            "Epoch 128/300\n",
            "Epoch 129/300\n",
            "Epoch 130/300\n",
            "Epoch 131/300\n",
            "Epoch 132/300\n",
            "Epoch 133/300\n",
            "Epoch 134/300\n",
            "Epoch 135/300\n",
            "Epoch 136/300\n",
            "Epoch 137/300\n",
            "Epoch 138/300\n",
            "Epoch 139/300\n",
            "Epoch 140/300\n",
            "Epoch 141/300\n",
            "Epoch 142/300\n",
            "Epoch 143/300\n",
            "Epoch 144/300\n",
            "Epoch 145/300\n",
            "Epoch 146/300\n",
            "Epoch 147/300\n",
            "Epoch 148/300\n",
            "Epoch 149/300\n",
            "Epoch 150/300\n",
            "Epoch 151/300\n",
            "Epoch 152/300\n",
            "Epoch 153/300\n",
            "Epoch 154/300\n",
            "Epoch 155/300\n",
            "Epoch 156/300\n",
            "Epoch 157/300\n",
            "Epoch 158/300\n",
            "Epoch 159/300\n",
            "Epoch 160/300\n",
            "Epoch 161/300\n",
            "Epoch 162/300\n",
            "Epoch 163/300\n",
            "Epoch 164/300\n",
            "Epoch 165/300\n",
            "Epoch 166/300\n",
            "Epoch 167/300\n",
            "Epoch 168/300\n",
            "Epoch 169/300\n",
            "Epoch 170/300\n",
            "Epoch 171/300\n",
            "Epoch 172/300\n",
            "Epoch 173/300\n",
            "Epoch 174/300\n",
            "Epoch 175/300\n",
            "Epoch 176/300\n",
            "Epoch 177/300\n",
            "Epoch 178/300\n",
            "Epoch 179/300\n",
            "Epoch 180/300\n",
            "Epoch 181/300\n",
            "Epoch 182/300\n",
            "Epoch 183/300\n",
            "Epoch 184/300\n",
            "Epoch 185/300\n",
            "Epoch 186/300\n",
            "Epoch 187/300\n",
            "Epoch 188/300\n",
            "Epoch 189/300\n",
            "Epoch 190/300\n",
            "Epoch 191/300\n",
            "Epoch 192/300\n",
            "Epoch 193/300\n",
            "Epoch 194/300\n",
            "Epoch 195/300\n",
            "Epoch 196/300\n",
            "Epoch 197/300\n",
            "Epoch 198/300\n",
            "Epoch 199/300\n",
            "Epoch 200/300\n",
            "Epoch 201/300\n",
            "Epoch 202/300\n",
            "Epoch 203/300\n",
            "Epoch 204/300\n",
            "Epoch 205/300\n",
            "Epoch 206/300\n",
            "Epoch 207/300\n",
            "Epoch 208/300\n",
            "Epoch 209/300\n",
            "Epoch 210/300\n",
            "Epoch 211/300\n",
            "Epoch 212/300\n",
            "Epoch 213/300\n",
            "Epoch 214/300\n",
            "Epoch 215/300\n",
            "Epoch 216/300\n",
            "Epoch 217/300\n",
            "Epoch 218/300\n",
            "Epoch 219/300\n",
            "Epoch 220/300\n",
            "Epoch 221/300\n",
            "Epoch 222/300\n",
            "Epoch 223/300\n",
            "Epoch 224/300\n",
            "Epoch 225/300\n",
            "Epoch 226/300\n",
            "Epoch 227/300\n",
            "Epoch 228/300\n",
            "Epoch 229/300\n",
            "Epoch 230/300\n",
            "Epoch 231/300\n",
            "Epoch 232/300\n",
            "Epoch 233/300\n",
            "Epoch 234/300\n",
            "Epoch 235/300\n",
            "Epoch 236/300\n",
            "Epoch 237/300\n",
            "Epoch 238/300\n",
            "Epoch 239/300\n",
            "Epoch 240/300\n",
            "Epoch 241/300\n",
            "Epoch 242/300\n",
            "Epoch 243/300\n",
            "Epoch 244/300\n",
            "Epoch 245/300\n",
            "Epoch 246/300\n",
            "Epoch 247/300\n",
            "Epoch 248/300\n",
            "Epoch 249/300\n",
            "Epoch 250/300\n",
            "Epoch 251/300\n",
            "Epoch 252/300\n",
            "Epoch 253/300\n",
            "Epoch 254/300\n",
            "Epoch 255/300\n",
            "Epoch 256/300\n",
            "Epoch 257/300\n",
            "Epoch 258/300\n",
            "Epoch 259/300\n",
            "Epoch 260/300\n",
            "Epoch 261/300\n",
            "Epoch 262/300\n",
            "Epoch 263/300\n",
            "Epoch 264/300\n",
            "Epoch 265/300\n",
            "Epoch 266/300\n",
            "Epoch 267/300\n",
            "Epoch 268/300\n",
            "Epoch 269/300\n",
            "Epoch 270/300\n",
            "Epoch 271/300\n",
            "Epoch 272/300\n",
            "Epoch 273/300\n",
            "Epoch 274/300\n",
            "Epoch 275/300\n",
            "Epoch 276/300\n",
            "Epoch 277/300\n",
            "Epoch 278/300\n",
            "Epoch 279/300\n",
            "Epoch 280/300\n",
            "Epoch 281/300\n",
            "Epoch 282/300\n",
            "Epoch 283/300\n",
            "Epoch 284/300\n",
            "Epoch 285/300\n",
            "Epoch 286/300\n",
            "Epoch 287/300\n",
            "Epoch 288/300\n",
            "Epoch 289/300\n",
            "Epoch 290/300\n",
            "Epoch 291/300\n",
            "Epoch 292/300\n",
            "Epoch 293/300\n",
            "Epoch 294/300\n",
            "Epoch 295/300\n",
            "Epoch 296/300\n",
            "Epoch 297/300\n",
            "Epoch 298/300\n",
            "Epoch 299/300\n",
            "Epoch 300/300\n"
          ]
        }
      ]
    },
    {
      "cell_type": "code",
      "source": [
        "# Lấy độ chính xác cao nhất từ lịch sử\n",
        "highest_val_accuracy = max(history.history['val_accuracy'])\n",
        "print(\"Highest Validation Accuracy:\", highest_val_accuracy)"
      ],
      "metadata": {
        "colab": {
          "base_uri": "https://localhost:8080/"
        },
        "id": "Cnc0lRcb2_cJ",
        "outputId": "6d4683a9-18b6-4d0e-cccd-cd02412211e5"
      },
      "execution_count": null,
      "outputs": [
        {
          "output_type": "stream",
          "name": "stdout",
          "text": [
            "Highest Validation Accuracy: 0.9970893263816833\n"
          ]
        }
      ]
    },
    {
      "cell_type": "code",
      "source": [
        "plt.plot(history.history['loss'], label='loss')\n",
        "plt.plot(history.history['val_loss'], label='val_loss')\n",
        "plt.xlabel('Epoch')\n",
        "plt.ylabel('SCCE Loss')\n",
        "plt.legend()\n",
        "plt.grid(True)"
      ],
      "metadata": {
        "id": "P9KsKmR3OE3n",
        "colab": {
          "base_uri": "https://localhost:8080/",
          "height": 449
        },
        "outputId": "7fc378e4-92ec-44fe-afba-048c832246ce"
      },
      "execution_count": null,
      "outputs": [
        {
          "output_type": "display_data",
          "data": {
            "text/plain": [
              "<Figure size 640x480 with 1 Axes>"
            ],
            "image/png": "[encoded data removed]"
          },
          "metadata": {}
        }
      ]
    },
    {
      "cell_type": "code",
      "source": [
        "plt.plot(history.history['accuracy'], label='accuracy')\n",
        "plt.plot(history.history['val_accuracy'], label='val_accuracy')\n",
        "plt.xlabel('Epoch')\n",
        "plt.ylabel('Accuracy')\n",
        "plt.legend()\n",
        "plt.grid(True)"
      ],
      "metadata": {
        "colab": {
          "base_uri": "https://localhost:8080/",
          "height": 449
        },
        "id": "lfEhDOhHBfrZ",
        "outputId": "df8eef33-ed80-485f-ff73-682c0354f989"
      },
      "execution_count": null,
      "outputs": [
        {
          "output_type": "display_data",
          "data": {
            "text/plain": [
              "<Figure size 640x480 with 1 Axes>"
            ],
            "image/png": "[encoded data removed]"
          },
          "metadata": {}
        }
      ]
    },
    {
      "cell_type": "code",
      "source": [
        "y_pred = model.predict(X_test)"
      ],
      "metadata": {
        "colab": {
          "base_uri": "https://localhost:8080/"
        },
        "id": "skRKLgKUgi6F",
        "outputId": "5a9a7d90-b4c5-47f7-fc2f-55252a54180a"
      },
      "execution_count": null,
      "outputs": [
        {
          "output_type": "stream",
          "name": "stdout",
          "text": [
            "705/705 [==============================] - 2s 2ms/step\n"
          ]
        }
      ]
    },
    {
      "cell_type": "code",
      "source": [
        "y_pred = np.argmax(y_pred, axis=-1)"
      ],
      "metadata": {
        "id": "3_3wvbszgv_4"
      },
      "execution_count": null,
      "outputs": []
    },
    {
      "cell_type": "code",
      "source": [
        "y_pred"
      ],
      "metadata": {
        "colab": {
          "base_uri": "https://localhost:8080/"
        },
        "id": "X8f7vd9ngqR-",
        "outputId": "016c5e55-1e80-46b5-8b47-e93cf0da53a2"
      },
      "execution_count": null,
      "outputs": [
        {
          "output_type": "execute_result",
          "data": {
            "text/plain": [
              "array([0, 0, 0, ..., 1, 2, 0])"
            ]
          },
          "metadata": {},
          "execution_count": 39
        }
      ]
    },
    {
      "cell_type": "code",
      "source": [
        "y_test"
      ],
      "metadata": {
        "colab": {
          "base_uri": "https://localhost:8080/"
        },
        "id": "zgGYPlGZgsCD",
        "outputId": "795110f6-0ea4-43bb-e67e-1cfd4ac604e1"
      },
      "execution_count": null,
      "outputs": [
        {
          "output_type": "execute_result",
          "data": {
            "text/plain": [
              "0        0\n",
              "1        0\n",
              "2        0\n",
              "3        0\n",
              "4        2\n",
              "        ..\n",
              "22539    2\n",
              "22540    0\n",
              "22541    1\n",
              "22542    2\n",
              "22543    0\n",
              "Name: labels, Length: 22544, dtype: category\n",
              "Categories (5, int64): [4, 1, 0, 2, 3]"
            ]
          },
          "metadata": {},
          "execution_count": 40
        }
      ]
    },
    {
      "cell_type": "code",
      "source": [
        "from sklearn.metrics import accuracy_score\n",
        "accuracy =  accuracy_score(y_test, y_pred)\n",
        "accuracy * 100"
      ],
      "metadata": {
        "colab": {
          "base_uri": "https://localhost:8080/"
        },
        "id": "lQ4vJXzpg4gp",
        "outputId": "d96f5d8f-6367-4a73-87de-8a548db995ee"
      },
      "execution_count": null,
      "outputs": [
        {
          "output_type": "execute_result",
          "data": {
            "text/plain": [
              "93.18665720369056"
            ]
          },
          "metadata": {},
          "execution_count": 61
        }
      ]
    },
    {
      "cell_type": "code",
      "source": [
        "import seaborn as sns\n",
        "from sklearn.metrics import confusion_matrix, f1_score, mean_absolute_error, make_scorer\n",
        "\n",
        "# Showing Confusion Matrix\n",
        "\n",
        "def plot_cm(y_true, y_pred, title):\n",
        "    figsize=(14,14)\n",
        "    #y_pred = y_pred.astype(int)\n",
        "    cm = confusion_matrix(y_true, y_pred, labels=np.unique(y_true))\n",
        "    cm_sum = np.sum(cm, axis=1, keepdims=True)\n",
        "    cm_perc = cm / cm_sum.astype(float) * 100\n",
        "    annot = np.empty_like(cm).astype(str)\n",
        "    nrows, ncols = cm.shape\n",
        "    for i in range(nrows):\n",
        "        for j in range(ncols):\n",
        "            c = cm[i, j]\n",
        "            p = cm_perc[i, j]\n",
        "            if i == j:\n",
        "                s = cm_sum[i]\n",
        "                annot[i, j] = '%.1f%%\\n%d/%d' % (p, c, s)\n",
        "            elif c == 0:\n",
        "                annot[i, j] = ''\n",
        "            else:\n",
        "                annot[i, j] = '%.1f%%\\n%d' % (p, c)\n",
        "    cm = pd.DataFrame(cm, index=np.unique(y_true), columns=np.unique(y_true))\n",
        "    cm.index.name = 'Actual'\n",
        "    cm.columns.name = 'Predicted'\n",
        "    fig, ax = plt.subplots(figsize=figsize)\n",
        "    plt.title(title)\n",
        "    sns.heatmap(cm, cmap= \"YlGnBu\", annot=annot, fmt='', ax=ax)"
      ],
      "metadata": {
        "id": "rfQk340bhEBc"
      },
      "execution_count": null,
      "outputs": []
    },
    {
      "cell_type": "code",
      "source": [
        "plot_cm(y_test,y_pred, 'Confusion matrix for predictions on the validation set')\n",
        "f1_score(y_test, y_pred, average = 'macro')"
      ],
      "metadata": {
        "colab": {
          "base_uri": "https://localhost:8080/",
          "height": 917
        },
        "id": "gZmLfWxxg3I2",
        "outputId": "6f5c056e-4130-485c-afb6-183e2a4fec5d"
      },
      "execution_count": null,
      "outputs": [
        {
          "output_type": "execute_result",
          "data": {
            "text/plain": [
              "0.6934738230100034"
            ]
          },
          "metadata": {},
          "execution_count": 43
        },
        {
          "output_type": "display_data",
          "data": {
            "text/plain": [
              "<Figure size 1400x1400 with 2 Axes>"
            ],
            "image/png": "[encoded data removed]"
          },
          "metadata": {}
        }
      ]
    },
    {
      "cell_type": "code",
      "source": [
        "lable_map_re = {0:'normal', 1:'Dos', 2:'Probe', 3:'R2L', 4:'U2R'}"
      ],
      "metadata": {
        "id": "vdOBZTamg-7B"
      },
      "execution_count": null,
      "outputs": []
    },
    {
      "cell_type": "code",
      "source": [
        "y_pred_re1 = [\n",
        "    [\n",
        "        \"normal\" if value == 0 else\n",
        "        \"Dos\" if value == 1 else\n",
        "        \"Probe\" if value == 2 else\n",
        "        \"R2L\" if value == 3 else\n",
        "        \"U3R\" if value == 4 else\n",
        "        \"unknown\"  # Thêm một giá trị mặc định nếu không có điều kiện nào được đáp ứng\n",
        "        for value in inner_array.flatten()\n",
        "    ] for inner_array in y_pred\n",
        "]\n"
      ],
      "metadata": {
        "id": "EYcvK1JChxMM"
      },
      "execution_count": null,
      "outputs": []
    },
    {
      "cell_type": "code",
      "source": [
        "y_pred_re1"
      ],
      "metadata": {
        "colab": {
          "base_uri": "https://localhost:8080/"
        },
        "id": "yaWm6uOkh5_Y",
        "outputId": "e23ed9e0-fdc5-4161-d4d3-5a88bb06e59a"
      },
      "execution_count": null,
      "outputs": [
        {
          "output_type": "execute_result",
          "data": {
            "text/plain": [
              "[['normal'],\n",
              " ['normal'],\n",
              " ['normal'],\n",
              " ['normal'],\n",
              " ['Probe'],\n",
              " ['Dos'],\n",
              " ['normal'],\n",
              " ['Dos'],\n",
              " ['Dos'],\n",
              " ['Probe'],\n",
              " ['Dos'],\n",
              " ['Probe'],\n",
              " ['Dos'],\n",
              " ['Dos'],\n",
              " ['Dos'],\n",
              " ['normal'],\n",
              " ['Dos'],\n",
              " ['normal'],\n",
              " ['normal'],\n",
              " ['normal'],\n",
              " ['normal'],\n",
              " ['normal'],\n",
              " ['normal'],\n",
              " ['Dos'],\n",
              " ['normal'],\n",
              " ['normal'],\n",
              " ['Dos'],\n",
              " ['Dos'],\n",
              " ['normal'],\n",
              " ['normal'],\n",
              " ['normal'],\n",
              " ['normal'],\n",
              " ['Dos'],\n",
              " ['normal'],\n",
              " ['Dos'],\n",
              " ['Dos'],\n",
              " ['normal'],\n",
              " ['Dos'],\n",
              " ['normal'],\n",
              " ['normal'],\n",
              " ['normal'],\n",
              " ['Dos'],\n",
              " ['normal'],\n",
              " ['normal'],\n",
              " ['Probe'],\n",
              " ['normal'],\n",
              " ['Dos'],\n",
              " ['Dos'],\n",
              " ['Dos'],\n",
              " ['Dos'],\n",
              " ['Dos'],\n",
              " ['normal'],\n",
              " ['normal'],\n",
              " ['normal'],\n",
              " ['Dos'],\n",
              " ['normal'],\n",
              " ['normal'],\n",
              " ['normal'],\n",
              " ['Dos'],\n",
              " ['normal'],\n",
              " ['Dos'],\n",
              " ['Probe'],\n",
              " ['normal'],\n",
              " ['normal'],\n",
              " ['normal'],\n",
              " ['Probe'],\n",
              " ['normal'],\n",
              " ['normal'],\n",
              " ['normal'],\n",
              " ['Probe'],\n",
              " ['normal'],\n",
              " ['normal'],\n",
              " ['normal'],\n",
              " ['Dos'],\n",
              " ['R2L'],\n",
              " ['Dos'],\n",
              " ['normal'],\n",
              " ['normal'],\n",
              " ['Dos'],\n",
              " ['normal'],\n",
              " ['Dos'],\n",
              " ['Probe'],\n",
              " ['normal'],\n",
              " ['Probe'],\n",
              " ['normal'],\n",
              " ['R2L'],\n",
              " ['Probe'],\n",
              " ['normal'],\n",
              " ['Dos'],\n",
              " ['normal'],\n",
              " ['Dos'],\n",
              " ['normal'],\n",
              " ['normal'],\n",
              " ['R2L'],\n",
              " ['Dos'],\n",
              " ['Probe'],\n",
              " ['normal'],\n",
              " ['Dos'],\n",
              " ['normal'],\n",
              " ['Dos'],\n",
              " ['Dos'],\n",
              " ['normal'],\n",
              " ['normal'],\n",
              " ['Dos'],\n",
              " ['normal'],\n",
              " ['Dos'],\n",
              " ['normal'],\n",
              " ['normal'],\n",
              " ['Dos'],\n",
              " ['Dos'],\n",
              " ['normal'],\n",
              " ['normal'],\n",
              " ['Dos'],\n",
              " ['Probe'],\n",
              " ['normal'],\n",
              " ['normal'],\n",
              " ['Dos'],\n",
              " ['normal'],\n",
              " ['normal'],\n",
              " ['Dos'],\n",
              " ['Dos'],\n",
              " ['normal'],\n",
              " ['Dos'],\n",
              " ['normal'],\n",
              " ['Dos'],\n",
              " ['normal'],\n",
              " ['normal'],\n",
              " ['Dos'],\n",
              " ['normal'],\n",
              " ['normal'],\n",
              " ['Dos'],\n",
              " ['normal'],\n",
              " ['Dos'],\n",
              " ['normal'],\n",
              " ['Dos'],\n",
              " ['Dos'],\n",
              " ['Dos'],\n",
              " ['Dos'],\n",
              " ['Dos'],\n",
              " ['Probe'],\n",
              " ['normal'],\n",
              " ['normal'],\n",
              " ['Dos'],\n",
              " ['Dos'],\n",
              " ['Dos'],\n",
              " ['Probe'],\n",
              " ['normal'],\n",
              " ['normal'],\n",
              " ['normal'],\n",
              " ['normal'],\n",
              " ['normal'],\n",
              " ['Probe'],\n",
              " ['Dos'],\n",
              " ['Probe'],\n",
              " ['normal'],\n",
              " ['normal'],\n",
              " ['normal'],\n",
              " ['normal'],\n",
              " ['normal'],\n",
              " ['normal'],\n",
              " ['normal'],\n",
              " ['normal'],\n",
              " ['normal'],\n",
              " ['Dos'],\n",
              " ['Dos'],\n",
              " ['normal'],\n",
              " ['normal'],\n",
              " ['normal'],\n",
              " ['Dos'],\n",
              " ['Dos'],\n",
              " ['normal'],\n",
              " ['normal'],\n",
              " ['normal'],\n",
              " ['normal'],\n",
              " ['normal'],\n",
              " ['normal'],\n",
              " ['normal'],\n",
              " ['normal'],\n",
              " ['normal'],\n",
              " ['normal'],\n",
              " ['normal'],\n",
              " ['normal'],\n",
              " ['normal'],\n",
              " ['normal'],\n",
              " ['Dos'],\n",
              " ['normal'],\n",
              " ['normal'],\n",
              " ['Dos'],\n",
              " ['normal'],\n",
              " ['Dos'],\n",
              " ['Dos'],\n",
              " ['normal'],\n",
              " ['normal'],\n",
              " ['normal'],\n",
              " ['normal'],\n",
              " ['normal'],\n",
              " ['normal'],\n",
              " ['Dos'],\n",
              " ['Dos'],\n",
              " ['Dos'],\n",
              " ['normal'],\n",
              " ['Probe'],\n",
              " ['normal'],\n",
              " ['normal'],\n",
              " ['normal'],\n",
              " ['Dos'],\n",
              " ['normal'],\n",
              " ['Dos'],\n",
              " ['Dos'],\n",
              " ['Dos'],\n",
              " ['Dos'],\n",
              " ['Dos'],\n",
              " ['normal'],\n",
              " ['Dos'],\n",
              " ['normal'],\n",
              " ['Dos'],\n",
              " ['Dos'],\n",
              " ['Dos'],\n",
              " ['normal'],\n",
              " ['Dos'],\n",
              " ['normal'],\n",
              " ['Dos'],\n",
              " ['Probe'],\n",
              " ['R2L'],\n",
              " ['normal'],\n",
              " ['Probe'],\n",
              " ['normal'],\n",
              " ['Dos'],\n",
              " ['normal'],\n",
              " ['normal'],\n",
              " ['normal'],\n",
              " ['Dos'],\n",
              " ['Dos'],\n",
              " ['Dos'],\n",
              " ['Dos'],\n",
              " ['normal'],\n",
              " ['normal'],\n",
              " ['normal'],\n",
              " ['Dos'],\n",
              " ['Dos'],\n",
              " ['Dos'],\n",
              " ['normal'],\n",
              " ['Dos'],\n",
              " ['Probe'],\n",
              " ['Dos'],\n",
              " ['Dos'],\n",
              " ['normal'],\n",
              " ['Dos'],\n",
              " ['Probe'],\n",
              " ['Probe'],\n",
              " ['normal'],\n",
              " ['normal'],\n",
              " ['normal'],\n",
              " ['normal'],\n",
              " ['normal'],\n",
              " ['Dos'],\n",
              " ['Dos'],\n",
              " ['Dos'],\n",
              " ['Dos'],\n",
              " ['R2L'],\n",
              " ['normal'],\n",
              " ['Dos'],\n",
              " ['Dos'],\n",
              " ['normal'],\n",
              " ['Dos'],\n",
              " ['normal'],\n",
              " ['normal'],\n",
              " ['Dos'],\n",
              " ['normal'],\n",
              " ['Probe'],\n",
              " ['normal'],\n",
              " ['normal'],\n",
              " ['Dos'],\n",
              " ['Probe'],\n",
              " ['normal'],\n",
              " ['Dos'],\n",
              " ['normal'],\n",
              " ['normal'],\n",
              " ['Dos'],\n",
              " ['normal'],\n",
              " ['Dos'],\n",
              " ['normal'],\n",
              " ['normal'],\n",
              " ['Dos'],\n",
              " ['Dos'],\n",
              " ['normal'],\n",
              " ['Dos'],\n",
              " ['normal'],\n",
              " ['Dos'],\n",
              " ['normal'],\n",
              " ['normal'],\n",
              " ['Dos'],\n",
              " ['normal'],\n",
              " ['normal'],\n",
              " ['normal'],\n",
              " ['normal'],\n",
              " ['normal'],\n",
              " ['normal'],\n",
              " ['normal'],\n",
              " ['normal'],\n",
              " ['Dos'],\n",
              " ['Dos'],\n",
              " ['Dos'],\n",
              " ['Dos'],\n",
              " ['normal'],\n",
              " ['Dos'],\n",
              " ['normal'],\n",
              " ['normal'],\n",
              " ['normal'],\n",
              " ['Dos'],\n",
              " ['normal'],\n",
              " ['Dos'],\n",
              " ['normal'],\n",
              " ['Dos'],\n",
              " ['Probe'],\n",
              " ['normal'],\n",
              " ['Dos'],\n",
              " ['Dos'],\n",
              " ['normal'],\n",
              " ['R2L'],\n",
              " ['normal'],\n",
              " ['normal'],\n",
              " ['normal'],\n",
              " ['normal'],\n",
              " ['normal'],\n",
              " ['normal'],\n",
              " ['Dos'],\n",
              " ['Probe'],\n",
              " ['normal'],\n",
              " ['normal'],\n",
              " ['normal'],\n",
              " ['normal'],\n",
              " ['normal'],\n",
              " ['Dos'],\n",
              " ['normal'],\n",
              " ['normal'],\n",
              " ['normal'],\n",
              " ['Dos'],\n",
              " ['normal'],\n",
              " ['Dos'],\n",
              " ['Dos'],\n",
              " ['Dos'],\n",
              " ['Dos'],\n",
              " ['normal'],\n",
              " ['normal'],\n",
              " ['normal'],\n",
              " ['Dos'],\n",
              " ['normal'],\n",
              " ['Dos'],\n",
              " ['Dos'],\n",
              " ['Probe'],\n",
              " ['normal'],\n",
              " ['normal'],\n",
              " ['Dos'],\n",
              " ['normal'],\n",
              " ['Probe'],\n",
              " ['normal'],\n",
              " ['Dos'],\n",
              " ['normal'],\n",
              " ['normal'],\n",
              " ['normal'],\n",
              " ['Dos'],\n",
              " ['Probe'],\n",
              " ['Dos'],\n",
              " ['normal'],\n",
              " ['Dos'],\n",
              " ['Probe'],\n",
              " ['normal'],\n",
              " ['normal'],\n",
              " ['normal'],\n",
              " ['Probe'],\n",
              " ['Dos'],\n",
              " ['normal'],\n",
              " ['normal'],\n",
              " ['normal'],\n",
              " ['normal'],\n",
              " ['normal'],\n",
              " ['normal'],\n",
              " ['Dos'],\n",
              " ['Dos'],\n",
              " ['normal'],\n",
              " ['Dos'],\n",
              " ['Dos'],\n",
              " ['Dos'],\n",
              " ['normal'],\n",
              " ['normal'],\n",
              " ['normal'],\n",
              " ['normal'],\n",
              " ['Dos'],\n",
              " ['normal'],\n",
              " ['normal'],\n",
              " ['Dos'],\n",
              " ['Dos'],\n",
              " ['normal'],\n",
              " ['Dos'],\n",
              " ['normal'],\n",
              " ['Dos'],\n",
              " ['normal'],\n",
              " ['normal'],\n",
              " ['normal'],\n",
              " ['Dos'],\n",
              " ['Probe'],\n",
              " ['Dos'],\n",
              " ['normal'],\n",
              " ['Dos'],\n",
              " ['normal'],\n",
              " ['normal'],\n",
              " ['normal'],\n",
              " ['normal'],\n",
              " ['normal'],\n",
              " ['normal'],\n",
              " ['normal'],\n",
              " ['Dos'],\n",
              " ['normal'],\n",
              " ['normal'],\n",
              " ['Dos'],\n",
              " ['Dos'],\n",
              " ['Dos'],\n",
              " ['normal'],\n",
              " ['normal'],\n",
              " ['normal'],\n",
              " ['normal'],\n",
              " ['normal'],\n",
              " ['Dos'],\n",
              " ['normal'],\n",
              " ['Dos'],\n",
              " ['Dos'],\n",
              " ['normal'],\n",
              " ['Dos'],\n",
              " ['Dos'],\n",
              " ['Dos'],\n",
              " ['Probe'],\n",
              " ['Dos'],\n",
              " ['normal'],\n",
              " ['normal'],\n",
              " ['normal'],\n",
              " ['normal'],\n",
              " ['Dos'],\n",
              " ['normal'],\n",
              " ['Dos'],\n",
              " ['normal'],\n",
              " ['normal'],\n",
              " ['Dos'],\n",
              " ['Probe'],\n",
              " ['normal'],\n",
              " ['normal'],\n",
              " ['Dos'],\n",
              " ['normal'],\n",
              " ['Dos'],\n",
              " ['normal'],\n",
              " ['normal'],\n",
              " ['Dos'],\n",
              " ['Dos'],\n",
              " ['Probe'],\n",
              " ['normal'],\n",
              " ['normal'],\n",
              " ['normal'],\n",
              " ['normal'],\n",
              " ['normal'],\n",
              " ['Dos'],\n",
              " ['normal'],\n",
              " ['Dos'],\n",
              " ['normal'],\n",
              " ['normal'],\n",
              " ['normal'],\n",
              " ['normal'],\n",
              " ['normal'],\n",
              " ['normal'],\n",
              " ['normal'],\n",
              " ['Dos'],\n",
              " ['normal'],\n",
              " ['Probe'],\n",
              " ['Dos'],\n",
              " ['Probe'],\n",
              " ['normal'],\n",
              " ['normal'],\n",
              " ['normal'],\n",
              " ['normal'],\n",
              " ['normal'],\n",
              " ['Dos'],\n",
              " ['normal'],\n",
              " ['normal'],\n",
              " ['normal'],\n",
              " ['Dos'],\n",
              " ['normal'],\n",
              " ['normal'],\n",
              " ['normal'],\n",
              " ['normal'],\n",
              " ['Dos'],\n",
              " ['Dos'],\n",
              " ['normal'],\n",
              " ['Dos'],\n",
              " ['Dos'],\n",
              " ['normal'],\n",
              " ['normal'],\n",
              " ['normal'],\n",
              " ['Dos'],\n",
              " ['normal'],\n",
              " ['normal'],\n",
              " ['normal'],\n",
              " ['Dos'],\n",
              " ['normal'],\n",
              " ['normal'],\n",
              " ['normal'],\n",
              " ['normal'],\n",
              " ['normal'],\n",
              " ['normal'],\n",
              " ['normal'],\n",
              " ['R2L'],\n",
              " ['normal'],\n",
              " ['Dos'],\n",
              " ['normal'],\n",
              " ['Dos'],\n",
              " ['normal'],\n",
              " ['normal'],\n",
              " ['normal'],\n",
              " ['normal'],\n",
              " ['normal'],\n",
              " ['normal'],\n",
              " ['Dos'],\n",
              " ['Dos'],\n",
              " ['Dos'],\n",
              " ['normal'],\n",
              " ['Dos'],\n",
              " ['Dos'],\n",
              " ['Dos'],\n",
              " ['Dos'],\n",
              " ['normal'],\n",
              " ['normal'],\n",
              " ['normal'],\n",
              " ['Dos'],\n",
              " ['Dos'],\n",
              " ['Dos'],\n",
              " ['normal'],\n",
              " ['normal'],\n",
              " ['normal'],\n",
              " ['normal'],\n",
              " ['normal'],\n",
              " ['normal'],\n",
              " ['normal'],\n",
              " ['Dos'],\n",
              " ['Dos'],\n",
              " ['Dos'],\n",
              " ['Dos'],\n",
              " ['normal'],\n",
              " ['Dos'],\n",
              " ['normal'],\n",
              " ['normal'],\n",
              " ['Dos'],\n",
              " ['normal'],\n",
              " ['Dos'],\n",
              " ['normal'],\n",
              " ['Probe'],\n",
              " ['normal'],\n",
              " ['normal'],\n",
              " ['normal'],\n",
              " ['Dos'],\n",
              " ['normal'],\n",
              " ['Dos'],\n",
              " ['normal'],\n",
              " ['Dos'],\n",
              " ['normal'],\n",
              " ['normal'],\n",
              " ['Dos'],\n",
              " ['Dos'],\n",
              " ['Dos'],\n",
              " ['normal'],\n",
              " ['normal'],\n",
              " ['normal'],\n",
              " ['normal'],\n",
              " ['normal'],\n",
              " ['normal'],\n",
              " ['normal'],\n",
              " ['Dos'],\n",
              " ['Dos'],\n",
              " ['Dos'],\n",
              " ['Dos'],\n",
              " ['Probe'],\n",
              " ['Dos'],\n",
              " ['Dos'],\n",
              " ['normal'],\n",
              " ['normal'],\n",
              " ['normal'],\n",
              " ['normal'],\n",
              " ['Dos'],\n",
              " ['normal'],\n",
              " ['normal'],\n",
              " ['normal'],\n",
              " ['Dos'],\n",
              " ['normal'],\n",
              " ['Dos'],\n",
              " ['normal'],\n",
              " ['Dos'],\n",
              " ['Dos'],\n",
              " ['Dos'],\n",
              " ['normal'],\n",
              " ['normal'],\n",
              " ['normal'],\n",
              " ['Dos'],\n",
              " ['normal'],\n",
              " ['normal'],\n",
              " ['normal'],\n",
              " ['normal'],\n",
              " ['Probe'],\n",
              " ['Probe'],\n",
              " ['normal'],\n",
              " ['normal'],\n",
              " ['Probe'],\n",
              " ['normal'],\n",
              " ['normal'],\n",
              " ['Dos'],\n",
              " ['normal'],\n",
              " ['normal'],\n",
              " ['Dos'],\n",
              " ['Dos'],\n",
              " ['normal'],\n",
              " ['Probe'],\n",
              " ['normal'],\n",
              " ['Dos'],\n",
              " ['normal'],\n",
              " ['Dos'],\n",
              " ['normal'],\n",
              " ['Dos'],\n",
              " ['normal'],\n",
              " ['normal'],\n",
              " ['Dos'],\n",
              " ['normal'],\n",
              " ['Dos'],\n",
              " ['Dos'],\n",
              " ['normal'],\n",
              " ['normal'],\n",
              " ['Dos'],\n",
              " ['normal'],\n",
              " ['Probe'],\n",
              " ['Dos'],\n",
              " ['Probe'],\n",
              " ['normal'],\n",
              " ['normal'],\n",
              " ['normal'],\n",
              " ['normal'],\n",
              " ['R2L'],\n",
              " ['Probe'],\n",
              " ['normal'],\n",
              " ['Dos'],\n",
              " ['Dos'],\n",
              " ['normal'],\n",
              " ['Dos'],\n",
              " ['normal'],\n",
              " ['Dos'],\n",
              " ['normal'],\n",
              " ['normal'],\n",
              " ['Dos'],\n",
              " ['Dos'],\n",
              " ['Dos'],\n",
              " ['Probe'],\n",
              " ['Dos'],\n",
              " ['normal'],\n",
              " ['normal'],\n",
              " ['normal'],\n",
              " ['normal'],\n",
              " ['normal'],\n",
              " ['normal'],\n",
              " ['normal'],\n",
              " ['Dos'],\n",
              " ['normal'],\n",
              " ['Dos'],\n",
              " ['normal'],\n",
              " ['Dos'],\n",
              " ['Probe'],\n",
              " ['normal'],\n",
              " ['normal'],\n",
              " ['normal'],\n",
              " ['normal'],\n",
              " ['normal'],\n",
              " ['normal'],\n",
              " ['normal'],\n",
              " ['Dos'],\n",
              " ['normal'],\n",
              " ['normal'],\n",
              " ['Dos'],\n",
              " ['normal'],\n",
              " ['normal'],\n",
              " ['Dos'],\n",
              " ['Dos'],\n",
              " ['normal'],\n",
              " ['Dos'],\n",
              " ['Probe'],\n",
              " ['normal'],\n",
              " ['normal'],\n",
              " ['Probe'],\n",
              " ['Probe'],\n",
              " ['normal'],\n",
              " ['normal'],\n",
              " ['Dos'],\n",
              " ['Probe'],\n",
              " ['normal'],\n",
              " ['normal'],\n",
              " ['normal'],\n",
              " ['Probe'],\n",
              " ['normal'],\n",
              " ['Dos'],\n",
              " ['Probe'],\n",
              " ['normal'],\n",
              " ['normal'],\n",
              " ['normal'],\n",
              " ['normal'],\n",
              " ['Dos'],\n",
              " ['Dos'],\n",
              " ['Dos'],\n",
              " ['normal'],\n",
              " ['Dos'],\n",
              " ['Dos'],\n",
              " ['normal'],\n",
              " ['normal'],\n",
              " ['normal'],\n",
              " ['Dos'],\n",
              " ['normal'],\n",
              " ['normal'],\n",
              " ['normal'],\n",
              " ['normal'],\n",
              " ['normal'],\n",
              " ['Dos'],\n",
              " ['Probe'],\n",
              " ['Dos'],\n",
              " ['Dos'],\n",
              " ['normal'],\n",
              " ['Dos'],\n",
              " ['normal'],\n",
              " ['Dos'],\n",
              " ['normal'],\n",
              " ['normal'],\n",
              " ['Probe'],\n",
              " ['normal'],\n",
              " ['normal'],\n",
              " ['Probe'],\n",
              " ['Dos'],\n",
              " ['normal'],\n",
              " ['Dos'],\n",
              " ['normal'],\n",
              " ['normal'],\n",
              " ['normal'],\n",
              " ['Dos'],\n",
              " ['normal'],\n",
              " ['normal'],\n",
              " ['Probe'],\n",
              " ['normal'],\n",
              " ['normal'],\n",
              " ['normal'],\n",
              " ['Dos'],\n",
              " ['Dos'],\n",
              " ['Dos'],\n",
              " ['normal'],\n",
              " ['Dos'],\n",
              " ['normal'],\n",
              " ['Dos'],\n",
              " ['Dos'],\n",
              " ['normal'],\n",
              " ['normal'],\n",
              " ['Dos'],\n",
              " ['normal'],\n",
              " ['normal'],\n",
              " ['Dos'],\n",
              " ['normal'],\n",
              " ['normal'],\n",
              " ['Dos'],\n",
              " ['Dos'],\n",
              " ['normal'],\n",
              " ['normal'],\n",
              " ['normal'],\n",
              " ['Probe'],\n",
              " ['Dos'],\n",
              " ['normal'],\n",
              " ['normal'],\n",
              " ['Dos'],\n",
              " ['Dos'],\n",
              " ['Probe'],\n",
              " ['normal'],\n",
              " ['normal'],\n",
              " ['Probe'],\n",
              " ['Probe'],\n",
              " ['Dos'],\n",
              " ['normal'],\n",
              " ['Dos'],\n",
              " ['normal'],\n",
              " ['Dos'],\n",
              " ['Probe'],\n",
              " ['normal'],\n",
              " ['normal'],\n",
              " ['normal'],\n",
              " ['Dos'],\n",
              " ['Dos'],\n",
              " ['normal'],\n",
              " ['normal'],\n",
              " ['Dos'],\n",
              " ['Dos'],\n",
              " ['normal'],\n",
              " ['normal'],\n",
              " ['normal'],\n",
              " ['Probe'],\n",
              " ['normal'],\n",
              " ['Dos'],\n",
              " ['Dos'],\n",
              " ['normal'],\n",
              " ['Dos'],\n",
              " ['normal'],\n",
              " ['Dos'],\n",
              " ['normal'],\n",
              " ['Dos'],\n",
              " ['normal'],\n",
              " ['normal'],\n",
              " ['normal'],\n",
              " ['normal'],\n",
              " ['Probe'],\n",
              " ['normal'],\n",
              " ['normal'],\n",
              " ['normal'],\n",
              " ['Dos'],\n",
              " ['Dos'],\n",
              " ['normal'],\n",
              " ['normal'],\n",
              " ['normal'],\n",
              " ['normal'],\n",
              " ['normal'],\n",
              " ['normal'],\n",
              " ['normal'],\n",
              " ['Dos'],\n",
              " ['Dos'],\n",
              " ['normal'],\n",
              " ['normal'],\n",
              " ['Dos'],\n",
              " ['Dos'],\n",
              " ['Dos'],\n",
              " ['normal'],\n",
              " ['normal'],\n",
              " ['normal'],\n",
              " ['Probe'],\n",
              " ['normal'],\n",
              " ['normal'],\n",
              " ['normal'],\n",
              " ['normal'],\n",
              " ['Dos'],\n",
              " ['Dos'],\n",
              " ['Dos'],\n",
              " ['Dos'],\n",
              " ['normal'],\n",
              " ['Dos'],\n",
              " ['normal'],\n",
              " ['normal'],\n",
              " ['normal'],\n",
              " ['Probe'],\n",
              " ['normal'],\n",
              " ['Dos'],\n",
              " ['Dos'],\n",
              " ['Dos'],\n",
              " ['Dos'],\n",
              " ['normal'],\n",
              " ['Dos'],\n",
              " ['normal'],\n",
              " ['normal'],\n",
              " ['Dos'],\n",
              " ['Dos'],\n",
              " ['Probe'],\n",
              " ['normal'],\n",
              " ['Dos'],\n",
              " ['Dos'],\n",
              " ['normal'],\n",
              " ['normal'],\n",
              " ['normal'],\n",
              " ['Dos'],\n",
              " ['normal'],\n",
              " ['normal'],\n",
              " ['normal'],\n",
              " ['Dos'],\n",
              " ['Dos'],\n",
              " ['normal'],\n",
              " ['normal'],\n",
              " ['normal'],\n",
              " ['Dos'],\n",
              " ['Dos'],\n",
              " ['normal'],\n",
              " ['R2L'],\n",
              " ['normal'],\n",
              " ['normal'],\n",
              " ['normal'],\n",
              " ['Dos'],\n",
              " ['Dos'],\n",
              " ['normal'],\n",
              " ['Dos'],\n",
              " ['Dos'],\n",
              " ['normal'],\n",
              " ['Dos'],\n",
              " ['normal'],\n",
              " ['normal'],\n",
              " ['normal'],\n",
              " ['normal'],\n",
              " ['normal'],\n",
              " ['normal'],\n",
              " ['Dos'],\n",
              " ['Dos'],\n",
              " ['Dos'],\n",
              " ['normal'],\n",
              " ['normal'],\n",
              " ['normal'],\n",
              " ['normal'],\n",
              " ['normal'],\n",
              " ['Dos'],\n",
              " ['normal'],\n",
              " ['normal'],\n",
              " ['normal'],\n",
              " ['Dos'],\n",
              " ['normal'],\n",
              " ['normal'],\n",
              " ['Probe'],\n",
              " ['normal'],\n",
              " ['Probe'],\n",
              " ['Dos'],\n",
              " ['normal'],\n",
              " ['normal'],\n",
              " ['Dos'],\n",
              " ['normal'],\n",
              " ['normal'],\n",
              " ['normal'],\n",
              " ['normal'],\n",
              " ['normal'],\n",
              " ['Dos'],\n",
              " ['normal'],\n",
              " ['normal'],\n",
              " ['normal'],\n",
              " ['normal'],\n",
              " ['normal'],\n",
              " ['normal'],\n",
              " ['Dos'],\n",
              " ['Dos'],\n",
              " ['Dos'],\n",
              " ['normal'],\n",
              " ['normal'],\n",
              " ['normal'],\n",
              " ['Probe'],\n",
              " ['Dos'],\n",
              " ['Probe'],\n",
              " ['Dos'],\n",
              " ['Dos'],\n",
              " ['normal'],\n",
              " ['Dos'],\n",
              " ['normal'],\n",
              " ['Dos'],\n",
              " ['Dos'],\n",
              " ['normal'],\n",
              " ['Probe'],\n",
              " ['Dos'],\n",
              " ['Dos'],\n",
              " ['normal'],\n",
              " ['normal'],\n",
              " ['Dos'],\n",
              " ['normal'],\n",
              " ['Dos'],\n",
              " ['Dos'],\n",
              " ['normal'],\n",
              " ['normal'],\n",
              " ['normal'],\n",
              " ['normal'],\n",
              " ['Dos'],\n",
              " ['Probe'],\n",
              " ['Dos'],\n",
              " ['Dos'],\n",
              " ['normal'],\n",
              " ['normal'],\n",
              " ['Dos'],\n",
              " ['Dos'],\n",
              " ['normal'],\n",
              " ['Dos'],\n",
              " ['Dos'],\n",
              " ['normal'],\n",
              " ['normal'],\n",
              " ['normal'],\n",
              " ['Dos'],\n",
              " ['Dos'],\n",
              " ['Probe'],\n",
              " ['normal'],\n",
              " ['Probe'],\n",
              " ['normal'],\n",
              " ['normal'],\n",
              " ['normal'],\n",
              " ['normal'],\n",
              " ['Dos'],\n",
              " ['normal'],\n",
              " ['normal'],\n",
              " ['normal'],\n",
              " ['Probe'],\n",
              " ['normal'],\n",
              " ['normal'],\n",
              " ['Dos'],\n",
              " ['normal'],\n",
              " ['Dos'],\n",
              " ['normal'],\n",
              " ['Dos'],\n",
              " ['normal'],\n",
              " ['Dos'],\n",
              " ['normal'],\n",
              " ['normal'],\n",
              " ...]"
            ]
          },
          "metadata": {},
          "execution_count": 46
        }
      ]
    },
    {
      "cell_type": "code",
      "source": [
        "lable_map = {0:'normal', 1:'Dos', 2:'Probe', 3:'R2L', 4:'U2R'}\n",
        "y_test_re1 = y_test.map(lable_map)"
      ],
      "metadata": {
        "id": "UGDU1wUjjYGW"
      },
      "execution_count": null,
      "outputs": []
    },
    {
      "cell_type": "code",
      "source": [
        "y_test_re1"
      ],
      "metadata": {
        "colab": {
          "base_uri": "https://localhost:8080/"
        },
        "id": "CFaPolPgjfRC",
        "outputId": "9729d5cb-f6b7-4d04-e1c2-a7becfef808a"
      },
      "execution_count": null,
      "outputs": [
        {
          "output_type": "execute_result",
          "data": {
            "text/plain": [
              "0        normal\n",
              "1        normal\n",
              "2        normal\n",
              "3        normal\n",
              "4         Probe\n",
              "          ...  \n",
              "22539     Probe\n",
              "22540    normal\n",
              "22541       Dos\n",
              "22542     Probe\n",
              "22543    normal\n",
              "Name: labels, Length: 22544, dtype: category\n",
              "Categories (5, object): ['U2R', 'Dos', 'normal', 'Probe', 'R2L']"
            ]
          },
          "metadata": {},
          "execution_count": 48
        }
      ]
    },
    {
      "cell_type": "code",
      "source": [
        "plot_cm(y_test_re1,y_pred_re1, 'Confusion matrix for predictions on the validation set')\n",
        "f1_score(y_test_re1, y_pred_re1, average = 'macro')"
      ],
      "metadata": {
        "colab": {
          "base_uri": "https://localhost:8080/",
          "height": 917
        },
        "id": "-4xLPzfVjkEG",
        "outputId": "fc0ef7b2-1aef-466f-e6b9-e8b501ba83a7"
      },
      "execution_count": null,
      "outputs": [
        {
          "output_type": "execute_result",
          "data": {
            "text/plain": [
              "0.6934738230100034"
            ]
          },
          "metadata": {},
          "execution_count": 49
        },
        {
          "output_type": "display_data",
          "data": {
            "text/plain": [
              "<Figure size 1400x1400 with 2 Axes>"
            ],
            "image/png": "[encoded data removed]"
          },
          "metadata": {}
        }
      ]
    },
    {
      "cell_type": "code",
      "source": [],
      "metadata": {
        "id": "jaKf2B57kXrx"
      },
      "execution_count": null,
      "outputs": []
    }
  ]
}