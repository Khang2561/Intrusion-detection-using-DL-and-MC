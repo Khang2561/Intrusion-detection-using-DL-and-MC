{
  "cells": [
    {
      "cell_type": "markdown",
      "metadata": {
        "id": "C0VkavB4euGF"
      },
      "source": [
        "#1.Read file\n"
      ]
    },
    {
      "cell_type": "code",
      "execution_count": 186,
      "metadata": {
        "id": "Gvgouv4BefZz"
      },
      "outputs": [],
      "source": [
        "\n",
        "import pandas as pd\n",
        "import numpy as np\n",
        "import matplotlib.pyplot as plt\n",
        "import seaborn as sns\n"
      ]
    },
    {
      "cell_type": "code",
      "execution_count": 187,
      "metadata": {
        "colab": {
          "base_uri": "https://localhost:8080/"
        },
        "id": "P3CqYAUqe1ea",
        "outputId": "a7290938-8b69-4f7c-9884-1b6330a372c6"
      },
      "outputs": [
        {
          "name": "stdout",
          "output_type": "stream",
          "text": [
            "Drive already mounted at /content/drive; to attempt to forcibly remount, call drive.mount(\"/content/drive\", force_remount=True).\n"
          ]
        }
      ],
      "source": [
        "from google.colab import drive\n",
        "drive.mount('/content/drive')"
      ]
    },
    {
      "cell_type": "code",
      "execution_count": 188,
      "metadata": {
        "id": "TSKeOjOeezuG"
      },
      "outputs": [],
      "source": [
        "#đọc dữ liệu file train và test\n",
        "#train\n",
        "path = \"/content/drive/MyDrive/Project/intruction_detection_project/kdd_train.csv\"\n",
        "train_df = pd.read_csv(path)\n",
        "\n",
        "#test\n",
        "path = \"/content/drive/MyDrive/Project/intruction_detection_project/kdd_test.csv\"\n",
        "test_df = pd.read_csv(path)"
      ]
    },
    {
      "cell_type": "code",
      "execution_count": 188,
      "metadata": {
        "id": "X99_SgXJtKTu"
      },
      "outputs": [],
      "source": []
    },
    {
      "cell_type": "code",
      "execution_count": 189,
      "metadata": {
        "id": "iWrP_8CqlDhV"
      },
      "outputs": [],
      "source": [
        "#Phân loại những data có kiểu category\n",
        "#change Dtype\n",
        "features = [\"protocol_type\",\"service\",\"flag\",\"land\",\"wrong_fragment\",\"is_host_login\",\"urgent\",\"logged_in\",\"root_shell\",\"su_attempted\",\"is_guest_login\",\"labels\"]\n",
        "def convert_cat(df,features) :\n",
        "  for feature in features :\n",
        "    df[feature] = df[feature].astype(\"category\")\n",
        "convert_cat(train_df, features)\n",
        "convert_cat(test_df, features)"
      ]
    },
    {
      "cell_type": "code",
      "execution_count": 190,
      "metadata": {
        "id": "zpBtiLytlLsh"
      },
      "outputs": [],
      "source": [
        "#xóa những cột không quá ảnh hưởng đến bài trên train_df\n",
        "train_df = train_df.drop(labels ='num_outbound_cmds',axis = 1)\n",
        "train_df = train_df.drop(labels ='is_host_login',axis = 1)"
      ]
    },
    {
      "cell_type": "code",
      "execution_count": 191,
      "metadata": {
        "id": "gMM-m_SdlNI8"
      },
      "outputs": [],
      "source": [
        "#những thuộc tính số lượng dưới 1 gộp thành vào other\n",
        "label_better_1 = [\"normal\",\"neptune\",\"satan\",\"ipsweep\",\"portsweep\",\"smurf\",\"nmap\"]\n",
        "train_df_labels_1 = list(train_df['labels'].unique())\n",
        "train_df_labels_1 = set(train_df_labels_1) - set(label_better_1)\n",
        "train_df_labels_1\n",
        "\n",
        "test_df_labels_1 = list(test_df['labels'].unique())\n",
        "test_df_labels_1 = set(test_df_labels_1) - set(label_better_1)\n",
        "test_df_labels_1\n",
        "\n",
        "#train_df.loc[label_under_1, ['labels']] ='other'\n",
        "train_df['labels'] = train_df['labels'].replace(train_df_labels_1, 'other')\n",
        "#train_df\n",
        "test_df['labels'] = test_df['labels'].replace(test_df_labels_1, 'other')"
      ]
    },
    {
      "cell_type": "code",
      "execution_count": 192,
      "metadata": {
        "id": "rOuGU-lzle9A"
      },
      "outputs": [],
      "source": [
        "#xóa vì num_root tương quan numcompromised đến 1\n",
        "train_df = train_df.drop(labels ='num_root',axis = 1)\n",
        "test_df = test_df.drop(labels ='num_root',axis = 1)"
      ]
    },
    {
      "cell_type": "code",
      "execution_count": 201,
      "metadata": {
        "id": "SiRuNryJSX6e"
      },
      "outputs": [],
      "source": [
        "feature_cols = [i for i in train_df if i != 'labels']\n",
        "x = cut_train_df[feature_cols]\n",
        "y = cut_train_df['labels']\n",
        "X_test =cut_test_df[feature_cols]\n",
        "y_test = cut_test_df['labels']\n"
      ]
    },
    {
      "cell_type": "code",
      "execution_count": 202,
      "metadata": {
        "id": "TnDcWnRVSX6e"
      },
      "outputs": [],
      "source": [
        "#preprocess pipeline\n",
        "from sklearn.preprocessing import OneHotEncoder, StandardScaler\n",
        "from sklearn.impute import SimpleImputer\n",
        "from sklearn.compose import ColumnTransformer\n",
        "from sklearn.pipeline import Pipeline\n",
        "from sklearn.compose import ColumnTransformer"
      ]
    },
    {
      "cell_type": "code",
      "execution_count": 203,
      "metadata": {
        "id": "YHlNT3hmSX6e"
      },
      "outputs": [],
      "source": [
        "num_transformer = Pipeline(steps =[\n",
        "    ('imputer', SimpleImputer(strategy = 'median')),\n",
        "    ('scaler', StandardScaler())\n",
        "])\n",
        "\n",
        "cat_transformer = Pipeline(steps =[\n",
        "    ('imputer', SimpleImputer(strategy='most_frequent')),\n",
        "    ('encoder', OneHotEncoder(handle_unknown='ignore'))\n",
        "])\n"
      ]
    },
    {
      "cell_type": "code",
      "execution_count": 204,
      "metadata": {
        "id": "UgHNOYK4SX6e"
      },
      "outputs": [],
      "source": [
        "num_features = [i for i in train_df if i != 'labels' and train_df[i].dtype != 'category']\n",
        "cat_features = [i for i in train_df if i != 'labels' and train_df[i].dtype == 'category']"
      ]
    },
    {
      "cell_type": "code",
      "execution_count": 205,
      "metadata": {
        "id": "KY5UxA_wSX6e"
      },
      "outputs": [],
      "source": [
        "preprocessor = ColumnTransformer(transformers=[\n",
        "    ('num', num_transformer, num_features),\n",
        "    ('cat', cat_transformer, cat_features)\n",
        "])"
      ]
    },
    {
      "cell_type": "code",
      "execution_count": 206,
      "metadata": {
        "colab": {
          "base_uri": "https://localhost:8080/",
          "height": 153
        },
        "id": "FPs4y5pKSX6e",
        "outputId": "0f8681dd-fe52-40ce-94a6-959e4f196915"
      },
      "outputs": [
        {
          "data": {
            "text/html": [
              "<style>#sk-container-id-5 {color: black;background-color: white;}#sk-container-id-5 pre{padding: 0;}#sk-container-id-5 div.sk-toggleable {background-color: white;}#sk-container-id-5 label.sk-toggleable__label {cursor: pointer;display: block;width: 100%;margin-bottom: 0;padding: 0.3em;box-sizing: border-box;text-align: center;}#sk-container-id-5 label.sk-toggleable__label-arrow:before {content: \"▸\";float: left;margin-right: 0.25em;color: #696969;}#sk-container-id-5 label.sk-toggleable__label-arrow:hover:before {color: black;}#sk-container-id-5 div.sk-estimator:hover label.sk-toggleable__label-arrow:before {color: black;}#sk-container-id-5 div.sk-toggleable__content {max-height: 0;max-width: 0;overflow: hidden;text-align: left;background-color: #f0f8ff;}#sk-container-id-5 div.sk-toggleable__content pre {margin: 0.2em;color: black;border-radius: 0.25em;background-color: #f0f8ff;}#sk-container-id-5 input.sk-toggleable__control:checked~div.sk-toggleable__content {max-height: 200px;max-width: 100%;overflow: auto;}#sk-container-id-5 input.sk-toggleable__control:checked~label.sk-toggleable__label-arrow:before {content: \"▾\";}#sk-container-id-5 div.sk-estimator input.sk-toggleable__control:checked~label.sk-toggleable__label {background-color: #d4ebff;}#sk-container-id-5 div.sk-label input.sk-toggleable__control:checked~label.sk-toggleable__label {background-color: #d4ebff;}#sk-container-id-5 input.sk-hidden--visually {border: 0;clip: rect(1px 1px 1px 1px);clip: rect(1px, 1px, 1px, 1px);height: 1px;margin: -1px;overflow: hidden;padding: 0;position: absolute;width: 1px;}#sk-container-id-5 div.sk-estimator {font-family: monospace;background-color: #f0f8ff;border: 1px dotted black;border-radius: 0.25em;box-sizing: border-box;margin-bottom: 0.5em;}#sk-container-id-5 div.sk-estimator:hover {background-color: #d4ebff;}#sk-container-id-5 div.sk-parallel-item::after {content: \"\";width: 100%;border-bottom: 1px solid gray;flex-grow: 1;}#sk-container-id-5 div.sk-label:hover label.sk-toggleable__label {background-color: #d4ebff;}#sk-container-id-5 div.sk-serial::before {content: \"\";position: absolute;border-left: 1px solid gray;box-sizing: border-box;top: 0;bottom: 0;left: 50%;z-index: 0;}#sk-container-id-5 div.sk-serial {display: flex;flex-direction: column;align-items: center;background-color: white;padding-right: 0.2em;padding-left: 0.2em;position: relative;}#sk-container-id-5 div.sk-item {position: relative;z-index: 1;}#sk-container-id-5 div.sk-parallel {display: flex;align-items: stretch;justify-content: center;background-color: white;position: relative;}#sk-container-id-5 div.sk-item::before, #sk-container-id-5 div.sk-parallel-item::before {content: \"\";position: absolute;border-left: 1px solid gray;box-sizing: border-box;top: 0;bottom: 0;left: 50%;z-index: -1;}#sk-container-id-5 div.sk-parallel-item {display: flex;flex-direction: column;z-index: 1;position: relative;background-color: white;}#sk-container-id-5 div.sk-parallel-item:first-child::after {align-self: flex-end;width: 50%;}#sk-container-id-5 div.sk-parallel-item:last-child::after {align-self: flex-start;width: 50%;}#sk-container-id-5 div.sk-parallel-item:only-child::after {width: 0;}#sk-container-id-5 div.sk-dashed-wrapped {border: 1px dashed gray;margin: 0 0.4em 0.5em 0.4em;box-sizing: border-box;padding-bottom: 0.4em;background-color: white;}#sk-container-id-5 div.sk-label label {font-family: monospace;font-weight: bold;display: inline-block;line-height: 1.2em;}#sk-container-id-5 div.sk-label-container {text-align: center;}#sk-container-id-5 div.sk-container {/* jupyter's `normalize.less` sets `[hidden] { display: none; }` but bootstrap.min.css set `[hidden] { display: none !important; }` so we also need the `!important` here to be able to override the default hidden behavior on the sphinx rendered scikit-learn.org. See: https://github.com/scikit-learn/scikit-learn/issues/21755 */display: inline-block !important;position: relative;}#sk-container-id-5 div.sk-text-repr-fallback {display: none;}</style><div id=\"sk-container-id-5\" class=\"sk-top-container\"><div class=\"sk-text-repr-fallback\"><pre>ColumnTransformer(transformers=[(&#x27;num&#x27;,\n",
              "                                 Pipeline(steps=[(&#x27;imputer&#x27;,\n",
              "                                                  SimpleImputer(strategy=&#x27;median&#x27;)),\n",
              "                                                 (&#x27;scaler&#x27;, StandardScaler())]),\n",
              "                                 [&#x27;duration&#x27;, &#x27;src_bytes&#x27;, &#x27;dst_bytes&#x27;, &#x27;hot&#x27;,\n",
              "                                  &#x27;num_failed_logins&#x27;, &#x27;num_compromised&#x27;,\n",
              "                                  &#x27;num_file_creations&#x27;, &#x27;num_shells&#x27;,\n",
              "                                  &#x27;num_access_files&#x27;, &#x27;count&#x27;, &#x27;srv_count&#x27;,\n",
              "                                  &#x27;serror_rate&#x27;, &#x27;srv_serror_rate&#x27;,\n",
              "                                  &#x27;rerror_rate&#x27;, &#x27;srv_rerror_rate&#x27;,\n",
              "                                  &#x27;sa...\n",
              "                                  &#x27;dst_host_serror_rate&#x27;,\n",
              "                                  &#x27;dst_host_srv_serror_rate&#x27;,\n",
              "                                  &#x27;dst_host_rerror_rate&#x27;,\n",
              "                                  &#x27;dst_host_srv_rerror_rate&#x27;]),\n",
              "                                (&#x27;cat&#x27;,\n",
              "                                 Pipeline(steps=[(&#x27;imputer&#x27;,\n",
              "                                                  SimpleImputer(strategy=&#x27;most_frequent&#x27;)),\n",
              "                                                 (&#x27;encoder&#x27;,\n",
              "                                                  OneHotEncoder(handle_unknown=&#x27;ignore&#x27;))]),\n",
              "                                 [&#x27;protocol_type&#x27;, &#x27;service&#x27;, &#x27;flag&#x27;, &#x27;land&#x27;,\n",
              "                                  &#x27;wrong_fragment&#x27;, &#x27;urgent&#x27;, &#x27;logged_in&#x27;,\n",
              "                                  &#x27;root_shell&#x27;, &#x27;su_attempted&#x27;,\n",
              "                                  &#x27;is_guest_login&#x27;])])</pre><b>In a Jupyter environment, please rerun this cell to show the HTML representation or trust the notebook. <br />On GitHub, the HTML representation is unable to render, please try loading this page with nbviewer.org.</b></div><div class=\"sk-container\" hidden><div class=\"sk-item sk-dashed-wrapped\"><div class=\"sk-label-container\"><div class=\"sk-label sk-toggleable\"><input class=\"sk-toggleable__control sk-hidden--visually\" id=\"sk-estimator-id-23\" type=\"checkbox\" ><label for=\"sk-estimator-id-23\" class=\"sk-toggleable__label sk-toggleable__label-arrow\">ColumnTransformer</label><div class=\"sk-toggleable__content\"><pre>ColumnTransformer(transformers=[(&#x27;num&#x27;,\n",
              "                                 Pipeline(steps=[(&#x27;imputer&#x27;,\n",
              "                                                  SimpleImputer(strategy=&#x27;median&#x27;)),\n",
              "                                                 (&#x27;scaler&#x27;, StandardScaler())]),\n",
              "                                 [&#x27;duration&#x27;, &#x27;src_bytes&#x27;, &#x27;dst_bytes&#x27;, &#x27;hot&#x27;,\n",
              "                                  &#x27;num_failed_logins&#x27;, &#x27;num_compromised&#x27;,\n",
              "                                  &#x27;num_file_creations&#x27;, &#x27;num_shells&#x27;,\n",
              "                                  &#x27;num_access_files&#x27;, &#x27;count&#x27;, &#x27;srv_count&#x27;,\n",
              "                                  &#x27;serror_rate&#x27;, &#x27;srv_serror_rate&#x27;,\n",
              "                                  &#x27;rerror_rate&#x27;, &#x27;srv_rerror_rate&#x27;,\n",
              "                                  &#x27;sa...\n",
              "                                  &#x27;dst_host_serror_rate&#x27;,\n",
              "                                  &#x27;dst_host_srv_serror_rate&#x27;,\n",
              "                                  &#x27;dst_host_rerror_rate&#x27;,\n",
              "                                  &#x27;dst_host_srv_rerror_rate&#x27;]),\n",
              "                                (&#x27;cat&#x27;,\n",
              "                                 Pipeline(steps=[(&#x27;imputer&#x27;,\n",
              "                                                  SimpleImputer(strategy=&#x27;most_frequent&#x27;)),\n",
              "                                                 (&#x27;encoder&#x27;,\n",
              "                                                  OneHotEncoder(handle_unknown=&#x27;ignore&#x27;))]),\n",
              "                                 [&#x27;protocol_type&#x27;, &#x27;service&#x27;, &#x27;flag&#x27;, &#x27;land&#x27;,\n",
              "                                  &#x27;wrong_fragment&#x27;, &#x27;urgent&#x27;, &#x27;logged_in&#x27;,\n",
              "                                  &#x27;root_shell&#x27;, &#x27;su_attempted&#x27;,\n",
              "                                  &#x27;is_guest_login&#x27;])])</pre></div></div></div><div class=\"sk-parallel\"><div class=\"sk-parallel-item\"><div class=\"sk-item\"><div class=\"sk-label-container\"><div class=\"sk-label sk-toggleable\"><input class=\"sk-toggleable__control sk-hidden--visually\" id=\"sk-estimator-id-24\" type=\"checkbox\" ><label for=\"sk-estimator-id-24\" class=\"sk-toggleable__label sk-toggleable__label-arrow\">num</label><div class=\"sk-toggleable__content\"><pre>[&#x27;duration&#x27;, &#x27;src_bytes&#x27;, &#x27;dst_bytes&#x27;, &#x27;hot&#x27;, &#x27;num_failed_logins&#x27;, &#x27;num_compromised&#x27;, &#x27;num_file_creations&#x27;, &#x27;num_shells&#x27;, &#x27;num_access_files&#x27;, &#x27;count&#x27;, &#x27;srv_count&#x27;, &#x27;serror_rate&#x27;, &#x27;srv_serror_rate&#x27;, &#x27;rerror_rate&#x27;, &#x27;srv_rerror_rate&#x27;, &#x27;same_srv_rate&#x27;, &#x27;diff_srv_rate&#x27;, &#x27;srv_diff_host_rate&#x27;, &#x27;dst_host_count&#x27;, &#x27;dst_host_srv_count&#x27;, &#x27;dst_host_same_srv_rate&#x27;, &#x27;dst_host_diff_srv_rate&#x27;, &#x27;dst_host_same_src_port_rate&#x27;, &#x27;dst_host_srv_diff_host_rate&#x27;, &#x27;dst_host_serror_rate&#x27;, &#x27;dst_host_srv_serror_rate&#x27;, &#x27;dst_host_rerror_rate&#x27;, &#x27;dst_host_srv_rerror_rate&#x27;]</pre></div></div></div><div class=\"sk-serial\"><div class=\"sk-item\"><div class=\"sk-serial\"><div class=\"sk-item\"><div class=\"sk-estimator sk-toggleable\"><input class=\"sk-toggleable__control sk-hidden--visually\" id=\"sk-estimator-id-25\" type=\"checkbox\" ><label for=\"sk-estimator-id-25\" class=\"sk-toggleable__label sk-toggleable__label-arrow\">SimpleImputer</label><div class=\"sk-toggleable__content\"><pre>SimpleImputer(strategy=&#x27;median&#x27;)</pre></div></div></div><div class=\"sk-item\"><div class=\"sk-estimator sk-toggleable\"><input class=\"sk-toggleable__control sk-hidden--visually\" id=\"sk-estimator-id-26\" type=\"checkbox\" ><label for=\"sk-estimator-id-26\" class=\"sk-toggleable__label sk-toggleable__label-arrow\">StandardScaler</label><div class=\"sk-toggleable__content\"><pre>StandardScaler()</pre></div></div></div></div></div></div></div></div><div class=\"sk-parallel-item\"><div class=\"sk-item\"><div class=\"sk-label-container\"><div class=\"sk-label sk-toggleable\"><input class=\"sk-toggleable__control sk-hidden--visually\" id=\"sk-estimator-id-27\" type=\"checkbox\" ><label for=\"sk-estimator-id-27\" class=\"sk-toggleable__label sk-toggleable__label-arrow\">cat</label><div class=\"sk-toggleable__content\"><pre>[&#x27;protocol_type&#x27;, &#x27;service&#x27;, &#x27;flag&#x27;, &#x27;land&#x27;, &#x27;wrong_fragment&#x27;, &#x27;urgent&#x27;, &#x27;logged_in&#x27;, &#x27;root_shell&#x27;, &#x27;su_attempted&#x27;, &#x27;is_guest_login&#x27;]</pre></div></div></div><div class=\"sk-serial\"><div class=\"sk-item\"><div class=\"sk-serial\"><div class=\"sk-item\"><div class=\"sk-estimator sk-toggleable\"><input class=\"sk-toggleable__control sk-hidden--visually\" id=\"sk-estimator-id-28\" type=\"checkbox\" ><label for=\"sk-estimator-id-28\" class=\"sk-toggleable__label sk-toggleable__label-arrow\">SimpleImputer</label><div class=\"sk-toggleable__content\"><pre>SimpleImputer(strategy=&#x27;most_frequent&#x27;)</pre></div></div></div><div class=\"sk-item\"><div class=\"sk-estimator sk-toggleable\"><input class=\"sk-toggleable__control sk-hidden--visually\" id=\"sk-estimator-id-29\" type=\"checkbox\" ><label for=\"sk-estimator-id-29\" class=\"sk-toggleable__label sk-toggleable__label-arrow\">OneHotEncoder</label><div class=\"sk-toggleable__content\"><pre>OneHotEncoder(handle_unknown=&#x27;ignore&#x27;)</pre></div></div></div></div></div></div></div></div></div></div></div></div>"
            ],
            "text/plain": [
              "ColumnTransformer(transformers=[('num',\n",
              "                                 Pipeline(steps=[('imputer',\n",
              "                                                  SimpleImputer(strategy='median')),\n",
              "                                                 ('scaler', StandardScaler())]),\n",
              "                                 ['duration', 'src_bytes', 'dst_bytes', 'hot',\n",
              "                                  'num_failed_logins', 'num_compromised',\n",
              "                                  'num_file_creations', 'num_shells',\n",
              "                                  'num_access_files', 'count', 'srv_count',\n",
              "                                  'serror_rate', 'srv_serror_rate',\n",
              "                                  'rerror_rate', 'srv_rerror_rate',\n",
              "                                  'sa...\n",
              "                                  'dst_host_serror_rate',\n",
              "                                  'dst_host_srv_serror_rate',\n",
              "                                  'dst_host_rerror_rate',\n",
              "                                  'dst_host_srv_rerror_rate']),\n",
              "                                ('cat',\n",
              "                                 Pipeline(steps=[('imputer',\n",
              "                                                  SimpleImputer(strategy='most_frequent')),\n",
              "                                                 ('encoder',\n",
              "                                                  OneHotEncoder(handle_unknown='ignore'))]),\n",
              "                                 ['protocol_type', 'service', 'flag', 'land',\n",
              "                                  'wrong_fragment', 'urgent', 'logged_in',\n",
              "                                  'root_shell', 'su_attempted',\n",
              "                                  'is_guest_login'])])"
            ]
          },
          "execution_count": 206,
          "metadata": {},
          "output_type": "execute_result"
        }
      ],
      "source": [
        "preprocessor.fit(x)\n",
        "preprocessor.fit(X_test)"
      ]
    },
    {
      "cell_type": "code",
      "execution_count": 207,
      "metadata": {
        "id": "upEDEr62SX6e"
      },
      "outputs": [],
      "source": [
        "X = preprocessor.transform(x)#X -> X_train, X_val\n",
        "X_test =preprocessor.transform(X_test)"
      ]
    },
    {
      "cell_type": "code",
      "execution_count": 209,
      "metadata": {
        "id": "niDE-YadTGLP"
      },
      "outputs": [],
      "source": [
        "from sklearn.model_selection import train_test_split"
      ]
    },
    {
      "cell_type": "code",
      "execution_count": 210,
      "metadata": {
        "id": "QW4xnZ65SX6f"
      },
      "outputs": [],
      "source": [
        "X_train, X_val, y_train,y_val = train_test_split(X,y, test_size = 0.2)"
      ]
    },
    {
      "cell_type": "code",
      "execution_count": 211,
      "metadata": {
        "id": "3YPz82AFSX6f"
      },
      "outputs": [],
      "source": [
        "\n",
        "from sklearn.metrics._plot.confusion_matrix import confusion_matrix\n",
        "#binary classification\n",
        "from sklearn.preprocessing import PolynomialFeatures\n",
        "#sklearn model\n",
        "from sklearn.tree import DecisionTreeClassifier\n",
        "from sklearn.linear_model import LogisticRegression\n",
        "from sklearn.metrics import precision_score, recall_score,classification_report, confusion_matrix"
      ]
    },
    {
      "cell_type": "code",
      "execution_count": 140,
      "metadata": {
        "id": "OH4mt_YnAcTw"
      },
      "outputs": [],
      "source": []
    },
    {
      "cell_type": "code",
      "execution_count": 27,
      "metadata": {
        "id": "BzpAnhNfmyru"
      },
      "outputs": [],
      "source": [
        "import seaborn as sns\n",
        "from sklearn.metrics import confusion_matrix, f1_score, mean_absolute_error, make_scorer\n",
        "\n",
        "# Showing Confusion Matrix\n",
        "\n",
        "def plot_cm(y_true, y_pred, title):\n",
        "    figsize=(14,14)\n",
        "    #y_pred = y_pred.astype(int)\n",
        "    cm = confusion_matrix(y_true, y_pred, labels=np.unique(y_true))\n",
        "    cm_sum = np.sum(cm, axis=1, keepdims=True)\n",
        "    cm_perc = cm / cm_sum.astype(float) * 100\n",
        "    annot = np.empty_like(cm).astype(str)\n",
        "    nrows, ncols = cm.shape\n",
        "    for i in range(nrows):\n",
        "        for j in range(ncols):\n",
        "            c = cm[i, j]\n",
        "            p = cm_perc[i, j]\n",
        "            if i == j:\n",
        "                s = cm_sum[i]\n",
        "                annot[i, j] = '%.1f%%\\n%d/%d' % (p, c, s)\n",
        "            elif c == 0:\n",
        "                annot[i, j] = ''\n",
        "            else:\n",
        "                annot[i, j] = '%.1f%%\\n%d' % (p, c)\n",
        "    cm = pd.DataFrame(cm, index=np.unique(y_true), columns=np.unique(y_true))\n",
        "    cm.index.name = 'Actual'\n",
        "    cm.columns.name = 'Predicted'\n",
        "    fig, ax = plt.subplots(figsize=figsize)\n",
        "    plt.title(title)\n",
        "    sns.heatmap(cm, cmap= \"YlGnBu\", annot=annot, fmt='', ax=ax)"
      ]
    },
    {
      "cell_type": "markdown",
      "metadata": {
        "id": "Y6uSMtf60g-p"
      },
      "source": [
        "neuron\n"
      ]
    },
    {
      "cell_type": "code",
      "execution_count": 212,
      "metadata": {
        "id": "sVkmk191_fKQ"
      },
      "outputs": [],
      "source": [
        "import numpy as np\n",
        "import pandas as pd\n",
        "import warnings\n",
        "import matplotlib.pyplot as plt\n",
        "import seaborn as sns\n",
        "import tensorflow as tf\n",
        "from tensorflow.keras import regularizers\n",
        "\n",
        "import xgboost as xgb\n",
        "from sklearn.decomposition import PCA\n",
        "from sklearn import tree\n",
        "from sklearn.naive_bayes import GaussianNB\n",
        "from sklearn.linear_model import LogisticRegression\n",
        "from sklearn.neighbors import KNeighborsClassifier\n",
        "from sklearn.tree import DecisionTreeClassifier\n",
        "from sklearn.preprocessing import RobustScaler\n",
        "from sklearn.ensemble import RandomForestClassifier, RandomForestRegressor\n",
        "from sklearn.model_selection import train_test_split\n",
        "from sklearn import svm\n",
        "from sklearn import metrics\n",
        "pd.set_option('display.max_columns',None)\n",
        "warnings.filterwarnings('ignore')\n",
        "%matplotlib inline"
      ]
    },
    {
      "cell_type": "code",
      "execution_count": 213,
      "metadata": {
        "colab": {
          "base_uri": "https://localhost:8080/"
        },
        "id": "E3n37BBygn7x",
        "outputId": "14945dfb-1939-488d-87b6-7ae287ed8202"
      },
      "outputs": [
        {
          "data": {
            "text/plain": [
              "(21932, 125)"
            ]
          },
          "execution_count": 213,
          "metadata": {},
          "output_type": "execute_result"
        }
      ],
      "source": [
        "X_train_reshaped = X_train.reshape(-1, 125)\n",
        "X_train_reshaped.shape"
      ]
    },
    {
      "cell_type": "code",
      "execution_count": 214,
      "metadata": {
        "colab": {
          "base_uri": "https://localhost:8080/"
        },
        "id": "X4zA2P2kgn7y",
        "outputId": "2c6fa10f-ae21-4074-8bb3-73a82a9802d5"
      },
      "outputs": [
        {
          "data": {
            "text/plain": [
              "(22544, 125)"
            ]
          },
          "execution_count": 214,
          "metadata": {},
          "output_type": "execute_result"
        }
      ],
      "source": [
        "X_test_reshaped = X_test.reshape(-1, 125)\n",
        "X_test_reshaped.shape"
      ]
    },
    {
      "cell_type": "code",
      "execution_count": 215,
      "metadata": {
        "colab": {
          "base_uri": "https://localhost:8080/"
        },
        "id": "zgCsN2mUn497",
        "outputId": "10850cf9-7c3f-4c35-c073-05b3f0cabd35"
      },
      "outputs": [
        {
          "data": {
            "text/plain": [
              "(5484, 125)"
            ]
          },
          "execution_count": 215,
          "metadata": {},
          "output_type": "execute_result"
        }
      ],
      "source": [
        "X_val_reshaped = X_val.reshape(-1, 125)\n",
        "X_val_reshaped.shape\n"
      ]
    },
    {
      "cell_type": "code",
      "execution_count": 216,
      "metadata": {
        "colab": {
          "base_uri": "https://localhost:8080/"
        },
        "id": "AtRuC53_gn7y",
        "outputId": "01f18f96-c3a7-4fb5-814b-21ba035eb5f9"
      },
      "outputs": [
        {
          "data": {
            "text/plain": [
              "['other', 'ipsweep', 'portsweep', 'neptune', 'smurf', 'satan', 'normal', 'nmap']\n",
              "Categories (8, object): ['ipsweep', 'other', 'neptune', 'nmap', 'normal', 'portsweep', 'satan',\n",
              "                         'smurf']"
            ]
          },
          "execution_count": 216,
          "metadata": {},
          "output_type": "execute_result"
        }
      ],
      "source": [
        "y_train.unique()"
      ]
    },
    {
      "cell_type": "code",
      "execution_count": 217,
      "metadata": {
        "id": "SB30LxFxgn7y"
      },
      "outputs": [],
      "source": [
        "lable_map = {'normal':0, 'neptune':1, 'satan':2, 'smurf':3, 'ipsweep':4, 'other':5, 'nmap':6, 'portsweep':7}\n",
        "y_train = y_train.map(lable_map)\n",
        "y_test = y_test.map(lable_map)"
      ]
    },
    {
      "cell_type": "code",
      "execution_count": 218,
      "metadata": {
        "id": "3KrB-W4vgn7y"
      },
      "outputs": [],
      "source": [
        "from tensorflow.keras.utils import to_categorical\n",
        "y_train = to_categorical(y_train, num_classes=8)"
      ]
    },
    {
      "cell_type": "code",
      "execution_count": 219,
      "metadata": {
        "id": "6I0f0uIboAV1"
      },
      "outputs": [],
      "source": [
        "y_val = y_val.map(lable_map)\n",
        "y_val = to_categorical(y_val, num_classes=8)"
      ]
    },
    {
      "cell_type": "code",
      "execution_count": 220,
      "metadata": {
        "colab": {
          "base_uri": "https://localhost:8080/"
        },
        "id": "GMILh28xnMLS",
        "outputId": "c92ff445-5dbc-4307-e362-bb7b81f69b01"
      },
      "outputs": [
        {
          "data": {
            "text/plain": [
              "array([[0., 1., 0., ..., 0., 0., 0.],\n",
              "       [0., 0., 1., ..., 0., 0., 0.],\n",
              "       [0., 0., 0., ..., 1., 0., 0.],\n",
              "       ...,\n",
              "       [1., 0., 0., ..., 0., 0., 0.],\n",
              "       [0., 0., 0., ..., 0., 0., 0.],\n",
              "       [0., 0., 0., ..., 0., 0., 1.]], dtype=float32)"
            ]
          },
          "execution_count": 220,
          "metadata": {},
          "output_type": "execute_result"
        }
      ],
      "source": [
        "y_val"
      ]
    },
    {
      "cell_type": "code",
      "execution_count": 242,
      "metadata": {
        "id": "MmUEEN6agn7y"
      },
      "outputs": [],
      "source": [
        "#chuỗi cái layer\n",
        "from keras.models import Sequential\n",
        "model = Sequential()\n"
      ]
    },
    {
      "cell_type": "code",
      "execution_count": 222,
      "metadata": {
        "colab": {
          "base_uri": "https://localhost:8080/"
        },
        "id": "bVmytfiudLPm",
        "outputId": "4926cc99-18b4-4654-e661-5ecf1b8bbcc6"
      },
      "outputs": [
        {
          "data": {
            "text/plain": [
              "(21932, 125)"
            ]
          },
          "execution_count": 222,
          "metadata": {},
          "output_type": "execute_result"
        }
      ],
      "source": [
        "X_train.shape"
      ]
    },
    {
      "cell_type": "code",
      "execution_count": 280,
      "metadata": {
        "id": "qygDXB5llIVm"
      },
      "outputs": [],
      "source": [
        "model = tf.keras.Sequential([\n",
        "    tf.keras.layers.Dense(units=125, activation='relu', input_shape=(125, ),\n",
        "                          kernel_regularizer=regularizers.L1L2(l1=1e-5, l2=1e-4),\n",
        "                          bias_regularizer=regularizers.L2(1e-4),\n",
        "                          activity_regularizer=regularizers.L2(1e-5)),\n",
        "    tf.keras.layers.Dropout(0.01),\n",
        "\n",
        "    tf.keras.layers.Dense(units=250, activation='relu',\n",
        "                          kernel_regularizer=regularizers.L1L2(l1=1e-5, l2=1e-4),\n",
        "                          bias_regularizer=regularizers.L2(1e-4),\n",
        "                          activity_regularizer=regularizers.L2(1e-5)),\n",
        "    tf.keras.layers.Dropout(0.01),\n",
        "\n",
        "\n",
        "    tf.keras.layers.Dense(units=128, activation='relu',\n",
        "                          kernel_regularizer=regularizers.L1L2(l1=1e-5, l2=1e-4),\n",
        "                          bias_regularizer=regularizers.L2(1e-4),\n",
        "                          activity_regularizer=regularizers.L2(1e-5)),\n",
        "    tf.keras.layers.Dropout(0.01),\n",
        "\n",
        "    tf.keras.layers.Dense(units=64, activation='relu',\n",
        "                          kernel_regularizer=regularizers.L1L2(l1=1e-5, l2=1e-4),\n",
        "                          bias_regularizer=regularizers.L2(1e-4),\n",
        "                          activity_regularizer=regularizers.L2(1e-5)),\n",
        "    tf.keras.layers.Dropout(0.01),\n",
        "\n",
        "\n",
        "    tf.keras.layers.Dense(units=32, activation='relu',\n",
        "                          kernel_regularizer=regularizers.L1L2(l1=1e-5, l2=1e-4),\n",
        "                          bias_regularizer=regularizers.L2(1e-4),\n",
        "                          activity_regularizer=regularizers.L2(1e-5)),\n",
        "    tf.keras.layers.Dropout(0.01),\n",
        "\n",
        "    tf.keras.layers.Dense(units=16, activation='relu',\n",
        "                          kernel_regularizer=regularizers.L1L2(l1=1e-5, l2=1e-4),\n",
        "                          bias_regularizer=regularizers.L2(1e-4),\n",
        "                          activity_regularizer=regularizers.L2(1e-5)),\n",
        "    tf.keras.layers.Dropout(0.01),\n",
        "\n",
        "    tf.keras.layers.Dense(units=8, activation='sigmoid'),\n",
        "])"
      ]
    },
    {
      "cell_type": "code",
      "execution_count": 281,
      "metadata": {
        "id": "t6wASXH8ZvEu"
      },
      "outputs": [],
      "source": [
        "model.compile(optimizer='adam', loss=tf.keras.losses.BinaryCrossentropy(from_logits=True), metrics=['accuracy'])"
      ]
    },
    {
      "cell_type": "code",
      "execution_count": 282,
      "metadata": {
        "colab": {
          "base_uri": "https://localhost:8080/"
        },
        "id": "6Q7lsue7Z4Ey",
        "outputId": "438d39e7-3bae-4c1c-bb54-1edf34ae6579"
      },
      "outputs": [
        {
          "name": "stdout",
          "output_type": "stream",
          "text": [
            "Model: \"sequential_15\"\n",
            "_________________________________________________________________\n",
            " Layer (type)                Output Shape              Param #   \n",
            "=================================================================\n",
            " dense_69 (Dense)            (None, 125)               15750     \n",
            "                                                                 \n",
            " dropout_56 (Dropout)        (None, 125)               0         \n",
            "                                                                 \n",
            " dense_70 (Dense)            (None, 250)               31500     \n",
            "                                                                 \n",
            " dropout_57 (Dropout)        (None, 250)               0         \n",
            "                                                                 \n",
            " dense_71 (Dense)            (None, 128)               32128     \n",
            "                                                                 \n",
            " dropout_58 (Dropout)        (None, 128)               0         \n",
            "                                                                 \n",
            " dense_72 (Dense)            (None, 64)                8256      \n",
            "                                                                 \n",
            " dropout_59 (Dropout)        (None, 64)                0         \n",
            "                                                                 \n",
            " dense_73 (Dense)            (None, 32)                2080      \n",
            "                                                                 \n",
            " dropout_60 (Dropout)        (None, 32)                0         \n",
            "                                                                 \n",
            " dense_74 (Dense)            (None, 16)                528       \n",
            "                                                                 \n",
            " dropout_61 (Dropout)        (None, 16)                0         \n",
            "                                                                 \n",
            " dense_75 (Dense)            (None, 8)                 136       \n",
            "                                                                 \n",
            "=================================================================\n",
            "Total params: 90378 (353.04 KB)\n",
            "Trainable params: 90378 (353.04 KB)\n",
            "Non-trainable params: 0 (0.00 Byte)\n",
            "_________________________________________________________________\n"
          ]
        }
      ],
      "source": [
        "model.summary()"
      ]
    },
    {
      "cell_type": "code",
      "execution_count": 284,
      "metadata": {
        "colab": {
          "base_uri": "https://localhost:8080/"
        },
        "id": "qU1gCp-oZ-GY",
        "outputId": "5f5be61d-0c90-45bb-a53b-d043168d1c48"
      },
      "outputs": [
        {
          "name": "stdout",
          "output_type": "stream",
          "text": [
            "Epoch 1/300\n",
            "Epoch 2/300\n",
            "Epoch 3/300\n",
            "Epoch 4/300\n",
            "Epoch 5/300\n",
            "Epoch 6/300\n",
            "Epoch 7/300\n",
            "Epoch 8/300\n",
            "Epoch 9/300\n",
            "Epoch 10/300\n",
            "Epoch 11/300\n",
            "Epoch 12/300\n",
            "Epoch 13/300\n",
            "Epoch 14/300\n",
            "Epoch 15/300\n",
            "Epoch 16/300\n",
            "Epoch 17/300\n",
            "Epoch 18/300\n",
            "Epoch 19/300\n",
            "Epoch 20/300\n",
            "Epoch 21/300\n",
            "Epoch 22/300\n",
            "Epoch 23/300\n",
            "Epoch 24/300\n",
            "Epoch 25/300\n",
            "Epoch 26/300\n",
            "Epoch 27/300\n",
            "Epoch 28/300\n",
            "Epoch 29/300\n",
            "Epoch 30/300\n",
            "Epoch 31/300\n",
            "Epoch 32/300\n",
            "Epoch 33/300\n",
            "Epoch 34/300\n",
            "Epoch 35/300\n",
            "Epoch 36/300\n",
            "Epoch 37/300\n",
            "Epoch 38/300\n",
            "Epoch 39/300\n",
            "Epoch 40/300\n",
            "Epoch 41/300\n",
            "Epoch 42/300\n",
            "Epoch 43/300\n",
            "Epoch 44/300\n",
            "Epoch 45/300\n",
            "Epoch 46/300\n",
            "Epoch 47/300\n",
            "Epoch 48/300\n",
            "Epoch 49/300\n",
            "Epoch 50/300\n",
            "Epoch 51/300\n",
            "Epoch 52/300\n",
            "Epoch 53/300\n",
            "Epoch 54/300\n",
            "Epoch 55/300\n",
            "Epoch 56/300\n",
            "Epoch 57/300\n",
            "Epoch 58/300\n",
            "Epoch 59/300\n",
            "Epoch 60/300\n",
            "Epoch 61/300\n",
            "Epoch 62/300\n",
            "Epoch 63/300\n",
            "Epoch 64/300\n",
            "Epoch 65/300\n",
            "Epoch 66/300\n",
            "Epoch 67/300\n",
            "Epoch 68/300\n",
            "Epoch 69/300\n",
            "Epoch 70/300\n",
            "Epoch 71/300\n",
            "Epoch 72/300\n",
            "Epoch 73/300\n",
            "Epoch 74/300\n",
            "Epoch 75/300\n",
            "Epoch 76/300\n",
            "Epoch 77/300\n",
            "Epoch 78/300\n",
            "Epoch 79/300\n",
            "Epoch 80/300\n",
            "Epoch 81/300\n",
            "Epoch 82/300\n",
            "Epoch 83/300\n",
            "Epoch 84/300\n",
            "Epoch 85/300\n",
            "Epoch 86/300\n",
            "Epoch 87/300\n",
            "Epoch 88/300\n",
            "Epoch 89/300\n",
            "Epoch 90/300\n",
            "Epoch 91/300\n",
            "Epoch 92/300\n",
            "Epoch 93/300\n",
            "Epoch 94/300\n",
            "Epoch 95/300\n",
            "Epoch 96/300\n",
            "Epoch 97/300\n",
            "Epoch 98/300\n",
            "Epoch 99/300\n",
            "Epoch 100/300\n",
            "Epoch 101/300\n",
            "Epoch 102/300\n",
            "Epoch 103/300\n",
            "Epoch 104/300\n",
            "Epoch 105/300\n",
            "Epoch 106/300\n",
            "Epoch 107/300\n",
            "Epoch 108/300\n",
            "Epoch 109/300\n",
            "Epoch 110/300\n",
            "Epoch 111/300\n",
            "Epoch 112/300\n",
            "Epoch 113/300\n",
            "Epoch 114/300\n",
            "Epoch 115/300\n",
            "Epoch 116/300\n",
            "Epoch 117/300\n",
            "Epoch 118/300\n",
            "Epoch 119/300\n",
            "Epoch 120/300\n",
            "Epoch 121/300\n",
            "Epoch 122/300\n",
            "Epoch 123/300\n",
            "Epoch 124/300\n",
            "Epoch 125/300\n",
            "Epoch 126/300\n",
            "Epoch 127/300\n",
            "Epoch 128/300\n",
            "Epoch 129/300\n",
            "Epoch 130/300\n",
            "Epoch 131/300\n",
            "Epoch 132/300\n",
            "Epoch 133/300\n",
            "Epoch 134/300\n",
            "Epoch 135/300\n",
            "Epoch 136/300\n",
            "Epoch 137/300\n",
            "Epoch 138/300\n",
            "Epoch 139/300\n",
            "Epoch 140/300\n",
            "Epoch 141/300\n",
            "Epoch 142/300\n",
            "Epoch 143/300\n",
            "Epoch 144/300\n",
            "Epoch 145/300\n",
            "Epoch 146/300\n",
            "Epoch 147/300\n",
            "Epoch 148/300\n",
            "Epoch 149/300\n",
            "Epoch 150/300\n",
            "Epoch 151/300\n",
            "Epoch 152/300\n",
            "Epoch 153/300\n",
            "Epoch 154/300\n",
            "Epoch 155/300\n",
            "Epoch 156/300\n",
            "Epoch 157/300\n",
            "Epoch 158/300\n",
            "Epoch 159/300\n",
            "Epoch 160/300\n",
            "Epoch 161/300\n",
            "Epoch 162/300\n",
            "Epoch 163/300\n",
            "Epoch 164/300\n",
            "Epoch 165/300\n",
            "Epoch 166/300\n",
            "Epoch 167/300\n",
            "Epoch 168/300\n",
            "Epoch 169/300\n",
            "Epoch 170/300\n",
            "Epoch 171/300\n",
            "Epoch 172/300\n",
            "Epoch 173/300\n",
            "Epoch 174/300\n",
            "Epoch 175/300\n",
            "Epoch 176/300\n",
            "Epoch 177/300\n",
            "Epoch 178/300\n",
            "Epoch 179/300\n",
            "Epoch 180/300\n",
            "Epoch 181/300\n",
            "Epoch 182/300\n",
            "Epoch 183/300\n",
            "Epoch 184/300\n",
            "Epoch 185/300\n",
            "Epoch 186/300\n",
            "Epoch 187/300\n",
            "Epoch 188/300\n",
            "Epoch 189/300\n",
            "Epoch 190/300\n",
            "Epoch 191/300\n",
            "Epoch 192/300\n",
            "Epoch 193/300\n",
            "Epoch 194/300\n",
            "Epoch 195/300\n",
            "Epoch 196/300\n",
            "Epoch 197/300\n",
            "Epoch 198/300\n",
            "Epoch 199/300\n",
            "Epoch 200/300\n",
            "Epoch 201/300\n",
            "Epoch 202/300\n",
            "Epoch 203/300\n",
            "Epoch 204/300\n",
            "Epoch 205/300\n",
            "Epoch 206/300\n",
            "Epoch 207/300\n",
            "Epoch 208/300\n",
            "Epoch 209/300\n",
            "Epoch 210/300\n",
            "Epoch 211/300\n",
            "Epoch 212/300\n",
            "Epoch 213/300\n",
            "Epoch 214/300\n",
            "Epoch 215/300\n",
            "Epoch 216/300\n",
            "Epoch 217/300\n",
            "Epoch 218/300\n",
            "Epoch 219/300\n",
            "Epoch 220/300\n",
            "Epoch 221/300\n",
            "Epoch 222/300\n",
            "Epoch 223/300\n",
            "Epoch 224/300\n",
            "Epoch 225/300\n",
            "Epoch 226/300\n",
            "Epoch 227/300\n",
            "Epoch 228/300\n",
            "Epoch 229/300\n",
            "Epoch 230/300\n",
            "Epoch 231/300\n",
            "Epoch 232/300\n",
            "Epoch 233/300\n",
            "Epoch 234/300\n",
            "Epoch 235/300\n",
            "Epoch 236/300\n",
            "Epoch 237/300\n",
            "Epoch 238/300\n",
            "Epoch 239/300\n",
            "Epoch 240/300\n",
            "Epoch 241/300\n",
            "Epoch 242/300\n",
            "Epoch 243/300\n",
            "Epoch 244/300\n",
            "Epoch 245/300\n",
            "Epoch 246/300\n",
            "Epoch 247/300\n",
            "Epoch 248/300\n",
            "Epoch 249/300\n",
            "Epoch 250/300\n",
            "Epoch 251/300\n",
            "Epoch 252/300\n",
            "Epoch 253/300\n",
            "Epoch 254/300\n",
            "Epoch 255/300\n",
            "Epoch 256/300\n",
            "Epoch 257/300\n",
            "Epoch 258/300\n",
            "Epoch 259/300\n",
            "Epoch 260/300\n",
            "Epoch 261/300\n",
            "Epoch 262/300\n",
            "Epoch 263/300\n",
            "Epoch 264/300\n",
            "Epoch 265/300\n",
            "Epoch 266/300\n",
            "Epoch 267/300\n",
            "Epoch 268/300\n",
            "Epoch 269/300\n",
            "Epoch 270/300\n",
            "Epoch 271/300\n",
            "Epoch 272/300\n",
            "Epoch 273/300\n",
            "Epoch 274/300\n",
            "Epoch 275/300\n",
            "Epoch 276/300\n",
            "Epoch 277/300\n",
            "Epoch 278/300\n",
            "Epoch 279/300\n",
            "Epoch 280/300\n",
            "Epoch 281/300\n",
            "Epoch 282/300\n",
            "Epoch 283/300\n",
            "Epoch 284/300\n",
            "Epoch 285/300\n",
            "Epoch 286/300\n",
            "Epoch 287/300\n",
            "Epoch 288/300\n",
            "Epoch 289/300\n",
            "Epoch 290/300\n",
            "Epoch 291/300\n",
            "Epoch 292/300\n",
            "Epoch 293/300\n",
            "Epoch 294/300\n",
            "Epoch 295/300\n",
            "Epoch 296/300\n",
            "Epoch 297/300\n",
            "Epoch 298/300\n",
            "Epoch 299/300\n",
            "Epoch 300/300\n"
          ]
        }
      ],
      "source": [
        "history = model.fit(X_train_reshaped, y_train,validation_data=(X_val, y_val) ,epochs=300, verbose=30000)"
      ]
    },
    {
      "cell_type": "code",
      "execution_count": 285,
      "metadata": {
        "colab": {
          "base_uri": "https://localhost:8080/"
        },
        "id": "91Yc6ghyaidP",
        "outputId": "b6702fe4-62c1-4f5f-cd8a-159f66556bec"
      },
      "outputs": [
        {
          "data": {
            "text/plain": [
              "array([[0., 0., 0., ..., 1., 0., 0.],\n",
              "       [0., 0., 0., ..., 0., 0., 0.],\n",
              "       [0., 0., 0., ..., 0., 0., 1.],\n",
              "       ...,\n",
              "       [1., 0., 0., ..., 0., 0., 0.],\n",
              "       [0., 0., 0., ..., 0., 0., 1.],\n",
              "       [0., 0., 0., ..., 0., 1., 0.]], dtype=float32)"
            ]
          },
          "execution_count": 285,
          "metadata": {},
          "output_type": "execute_result"
        }
      ],
      "source": [
        "y_train"
      ]
    },
    {
      "cell_type": "code",
      "execution_count": 286,
      "metadata": {
        "colab": {
          "base_uri": "https://localhost:8080/"
        },
        "id": "hQFmc8jLeeHA",
        "outputId": "8f246125-aded-452f-9261-6cbf2659c531"
      },
      "outputs": [
        {
          "name": "stdout",
          "output_type": "stream",
          "text": [
            "705/705 [==============================] - 1s 1ms/step\n"
          ]
        }
      ],
      "source": [
        "y_pred = model.predict(X_test)"
      ]
    },
    {
      "cell_type": "code",
      "execution_count": 287,
      "metadata": {
        "id": "gWsDQUGqjV1S"
      },
      "outputs": [],
      "source": [
        "y_pred = np.argmax(y_pred, axis=-1)"
      ]
    },
    {
      "cell_type": "code",
      "execution_count": 288,
      "metadata": {
        "colab": {
          "base_uri": "https://localhost:8080/"
        },
        "id": "SxfMpQRPmdan",
        "outputId": "e7741687-61d4-4a2d-b88b-a4b63f38501b"
      },
      "outputs": [
        {
          "data": {
            "text/plain": [
              "array([[0., 0., 0., ..., 1., 0., 0.],\n",
              "       [0., 0., 0., ..., 0., 0., 0.],\n",
              "       [0., 0., 0., ..., 0., 0., 1.],\n",
              "       ...,\n",
              "       [1., 0., 0., ..., 0., 0., 0.],\n",
              "       [0., 0., 0., ..., 0., 0., 1.],\n",
              "       [0., 0., 0., ..., 0., 1., 0.]], dtype=float32)"
            ]
          },
          "execution_count": 288,
          "metadata": {},
          "output_type": "execute_result"
        }
      ],
      "source": [
        "y_train"
      ]
    },
    {
      "cell_type": "code",
      "execution_count": 289,
      "metadata": {
        "colab": {
          "base_uri": "https://localhost:8080/",
          "height": 1000
        },
        "id": "YuIlI4jLitdo",
        "outputId": "58f73b81-f9b5-41da-d499-fb68ca7355e1"
      },
      "outputs": [
        {
          "data": {
            "text/plain": [
              "0.8712188865628698"
            ]
          },
          "execution_count": 289,
          "metadata": {},
          "output_type": "execute_result"
        },
        {
          "data": {
            "image/png": "[encoded data removed]",
            "text/plain": [
              "<Figure size 1400x1400 with 2 Axes>"
            ]
          },
          "metadata": {},
          "output_type": "display_data"
        }
      ],
      "source": [
        "plot_cm(y_test,y_pred, 'Confusion matrix for predictions on the validation set')\n",
        "f1_score(y_test, y_pred, average = 'macro')"
      ]
    },
    {
      "cell_type": "code",
      "execution_count": 251,
      "metadata": {
        "colab": {
          "base_uri": "https://localhost:8080/"
        },
        "id": "Alj531wtjCQC",
        "outputId": "4b1cc4a3-c103-4abd-c0ff-d08fa93366dd"
      },
      "outputs": [
        {
          "data": {
            "text/plain": [
              "array([0, 0, 0, ..., 1, 7, 0])"
            ]
          },
          "execution_count": 251,
          "metadata": {},
          "output_type": "execute_result"
        }
      ],
      "source": [
        "y_pred"
      ]
    },
    {
      "cell_type": "code",
      "execution_count": 290,
      "metadata": {
        "colab": {
          "base_uri": "https://localhost:8080/",
          "height": 450
        },
        "id": "6Fvacj78jP7J",
        "outputId": "acca53b9-ef42-494f-be09-03016003e7ef"
      },
      "outputs": [
        {
          "data": {
            "image/png": "[encoded data removed]",
            "text/plain": [
              "<Figure size 640x480 with 1 Axes>"
            ]
          },
          "metadata": {},
          "output_type": "display_data"
        }
      ],
      "source": [
        "plt.plot(history.history['loss'], label='loss')\n",
        "plt.plot(history.history['val_loss'], label='val_loss')\n",
        "plt.xlabel('Epoch')\n",
        "plt.ylabel('SCCE Loss')\n",
        "plt.legend()\n",
        "plt.grid(True)"
      ]
    },
    {
      "cell_type": "code",
      "execution_count": 291,
      "metadata": {
        "colab": {
          "base_uri": "https://localhost:8080/",
          "height": 449
        },
        "id": "EdOHVRHopa0P",
        "outputId": "ac7c5e3b-8819-4b61-c20c-075d759b38c2"
      },
      "outputs": [
        {
          "data": {
            "image/png": "[encoded data removed]",
            "text/plain": [
              "<Figure size 640x480 with 1 Axes>"
            ]
          },
          "metadata": {},
          "output_type": "display_data"
        }
      ],
      "source": [
        "plt.plot(history.history['accuracy'], label='accuracy')\n",
        "plt.plot(history.history['val_accuracy'], label='val_accuracy')\n",
        "plt.xlabel('Epoch')\n",
        "plt.ylabel('Accuracy')\n",
        "plt.legend()\n",
        "plt.grid(True)"
      ]
    },
    {
      "cell_type": "code",
      "execution_count": 292,
      "metadata": {
        "colab": {
          "base_uri": "https://localhost:8080/"
        },
        "id": "OYtt9XdDpcTc",
        "outputId": "7a9a99fe-27cd-4be9-f54b-bf50999059af"
      },
      "outputs": [
        {
          "data": {
            "text/plain": [
              "92.1930447125621"
            ]
          },
          "execution_count": 292,
          "metadata": {},
          "output_type": "execute_result"
        }
      ],
      "source": [
        "from sklearn.metrics import accuracy_score\n",
        "accuracy =  accuracy_score(y_test, y_pred)\n",
        "accuracy * 100"
      ]
    },
    {
      "cell_type": "code",
      "execution_count": null,
      "metadata": {
        "id": "i7isYxHqAK0p"
      },
      "outputs": [],
      "source": []
    }
  ],
  "metadata": {
    "colab": {
      "provenance": []
    },
    "kernelspec": {
      "display_name": "Python 3",
      "name": "python3"
    },
    "language_info": {
      "name": "python"
    }
  },
  "nbformat": 4,
  "nbformat_minor": 0
}
